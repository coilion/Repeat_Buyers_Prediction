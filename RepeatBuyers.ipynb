{
 "cells": [
  {
   "cell_type": "markdown",
   "metadata": {
    "colab_type": "text",
    "id": "Pp7uIANmxDox"
   },
   "source": [
    "# 项目简介"
   ]
  },
  {
   "cell_type": "markdown",
   "metadata": {},
   "source": [
    "商家有时会在特定日期，例如Boxing-day，黑色星期五或是双十一（11月11日）开展大型促销活动或者发放优惠券以吸引消费者，然而很多被吸引来的买家都是一次性消费者，这些促销活动可能对销售业绩的增长并没有长远帮助，因此为解决这个问题，商家需要识别出哪类消费者可以转化为重复购买者。通过对这些潜在的忠诚客户进行定位，商家可以大大降低促销成本，提高投资回报率（Return on Investment, ROI）。众所周知的是，在线投放广告时精准定位客户是件比较难的事情，尤其是针对新消费者的定位。不过，利用天猫长期积累的用户行为日志，我们或许可以解决这个问题。"
   ]
  },
  {
   "cell_type": "code",
   "execution_count": null,
   "metadata": {},
   "outputs": [],
   "source": [
    "# train_format1.csv\n",
    "# user_id             购物者的唯一ID编码\n",
    "# merchant_id         商家的唯一ID编码\n",
    "# label               给定客户是给定商家的重复购买者的概率，取值在[0, 1]\n",
    "\n",
    "# train_format2.csv\n",
    "# user_id             购物者的唯一ID编码\n",
    "# age_range           用户年龄范围。\n",
    "#                     <18岁为1；[18,24]为2； [25,29]为3； \n",
    "#                     [30,34]为4；[35,39]为5；[40,49]为6； > = 50时为7和8; \n",
    "#                     0和NULL表示未知\n",
    "# gender              0表示女性，1表示男性，2和NULL表示未知\n",
    "# merchant_id         商家的唯一ID编码\n",
    "# label               取值集合为{0, 1, -1, NULL}。取1表示'userid'是'merchantid'的重复买家，\n",
    "#                     取0则反之。取-1表示'user_id'不是给定商家的新客户，因此不在我们预测范围内，\n",
    "#                     但这些记录可能会提供额外信息。测试集这一部分需要预测，因此为NULL。\n",
    "# activity_log        {userid, merchantid}之间的每组交易中都记录有itemid, categoryid, brand_id, time，\n",
    "#                     用#分隔。记录不按任何特定顺序排序。\n",
    "\n",
    "# user_log_format1.csv\n",
    "# user_id               购物者的唯一ID编码\n",
    "# item_id               商品的唯一编码\n",
    "# cat_id                商品所属品类的唯一编码\n",
    "# seller_id             商家的唯一ID编码\n",
    "# brand_id              商品品牌的唯一编码\n",
    "# time_stamp            购买时间（格式：mmdd）\n",
    "# action_type           包含{0, 1, 2, 3}，0表示单击，1表示添加到购物车，2表示购买，3表示添加到收藏夹\n",
    "\n",
    "# user_info_format1.csv\n",
    "# user_id             购物者的唯一ID编码\n",
    "# age_range           用户年龄范围。\n",
    "#                     <18岁为1；[18,24]为2； [25,29]为3； \n",
    "#                     [30,34]为4；[35,39]为5；[40,49]为6； > = 50时为7和8; \n",
    "#                     0和NULL表示未知\n",
    "# gender              0表示女性，1表示男性，2和NULL表示未知\n",
    "\n",
    "# test_format1.csv\n",
    "# user_id              购物者的唯一ID编码\n",
    "# merchant_id          商家的唯一ID编码\n",
    "# prob                 包含{0, 1}，1表示重复买家，0表示非重复买家。测试集这一部分需要预测，因此为空。"
   ]
  },
  {
   "cell_type": "markdown",
   "metadata": {},
   "source": [
    "# 导入函数工具箱"
   ]
  },
  {
   "cell_type": "code",
   "execution_count": 2,
   "metadata": {
    "colab": {
     "base_uri": "https://localhost:8080/",
     "height": 339
    },
    "colab_type": "code",
    "executionInfo": {
     "elapsed": 13585,
     "status": "ok",
     "timestamp": 1588476243809,
     "user": {
      "displayName": "Wang Leo",
      "photoUrl": "",
      "userId": "15935752008260826958"
     },
     "user_tz": -480
    },
    "id": "nHmJU1EDHAuu",
    "outputId": "1002dbe5-94f0-4447-9674-1be62f098005"
   },
   "outputs": [],
   "source": [
    "import gc\n",
    "import pandas as pd \n",
    "import numpy as np\n",
    "\n",
    "#导入分析库\n",
    "from sklearn.model_selection import train_test_split\n",
    "from sklearn.model_selection import StratifiedKFold\n",
    "from sklearn.ensemble import RandomForestClassifier\n",
    "from sklearn.linear_model import LinearRegression\n",
    "from sklearn.metrics import classification_report\n",
    "import lightgbm as lgb\n",
    "import xgboost as xgb\n",
    "import catboost as cat\n",
    "\n",
    "from sklearn.metrics import roc_auc_score, roc_curve, auc\n",
    "# LOCAL_QUICK = True\n",
    "LOCAL_QUICK = False\n",
    "sample_percent = 0.1\n",
    "\n",
    "MORE_FE = False\n",
    "# MORE_FE = True\n",
    "FE_V1 = False if MORE_FE else True\n",
    "\n"
   ]
  },
  {
   "cell_type": "markdown",
   "metadata": {},
   "source": [
    "# 数据读取"
   ]
  },
  {
   "cell_type": "code",
   "execution_count": 3,
   "metadata": {
    "colab": {
     "base_uri": "https://localhost:8080/",
     "height": 50
    },
    "colab_type": "code",
    "id": "LcIL6KzTHx7S",
    "outputId": "d5450150-4599-450a-eb9f-ffd00c21e40c"
   },
   "outputs": [
    {
     "name": "stdout",
     "output_type": "stream",
     "text": [
      "CPU times: user 33.7 s, sys: 11.9 s, total: 45.6 s\n",
      "Wall time: 49 s\n"
     ]
    }
   ],
   "source": [
    "%%time\n",
    "# 加载数据\n",
    "# 用户行为，使用format1进行加载\n",
    "user_log = pd.read_csv('./data_format1/user_log_format1.csv', dtype={'time_stamp':'str'})\n",
    "user_info = pd.read_csv('./data_format1/user_info_format1.csv')\n",
    "train_data1 = pd.read_csv('./data_format1/train_format1.csv')\n",
    "sub_data = pd.read_csv('./data_format1/test_format1.csv')\n",
    "data_train = pd.read_csv('./data_format2/train_format2.csv') \n",
    "\n"
   ]
  },
  {
   "cell_type": "markdown",
   "metadata": {},
   "source": [
    "## 采样测试"
   ]
  },
  {
   "cell_type": "code",
   "execution_count": 4,
   "metadata": {
    "colab": {
     "base_uri": "https://localhost:8080/",
     "height": 168
    },
    "colab_type": "code",
    "id": "8v7sOucbg44T",
    "outputId": "b41d2f9d-5f62-44f1-f9e5-4f98bf67ed03"
   },
   "outputs": [
    {
     "name": "stdout",
     "output_type": "stream",
     "text": [
      "全数据训练\n",
      "---data shape---\n",
      "(54925330, 7)\n",
      "(424170, 3)\n",
      "(260864, 3)\n",
      "(261477, 3)\n",
      "(7030723, 6)\n",
      "CPU times: user 1.79 s, sys: 5.02 s, total: 6.8 s\n",
      "Wall time: 8.55 s\n"
     ]
    }
   ],
   "source": [
    "%%time\n",
    "if LOCAL_QUICK:\n",
    "    print('Local quick test: {}, sample_percent {}'.format(  \n",
    "        LOCAL_QUICK, sample_percent))\n",
    "    data = user_log.sample(int(len(user_log) * sample_percent))\n",
    "    data1 = user_info.sample(int(len(user_info) * sample_percent))\n",
    "    data2 = train_data1.sample(int(len(train_data1) * sample_percent))\n",
    "    # submission = sub_data.sample(int(len(sub_data) * sample_percent))\n",
    "    submission = sub_data.copy()\n",
    "else:\n",
    "    print('全数据训练')\n",
    "    data = user_log.copy()\n",
    "    data1 = user_info.copy()\n",
    "    data2 = train_data1.copy()\n",
    "    submission = sub_data.copy() \n",
    "    del user_log, user_info, train_data1, sub_data\n",
    "print('---data shape---')     \n",
    "for df in [data, data1, data2, submission, data_train]:\n",
    "    print(df.shape)  "
   ]
  },
  {
   "cell_type": "markdown",
   "metadata": {},
   "source": [
    "## 数据合并格式化"
   ]
  },
  {
   "cell_type": "code",
   "execution_count": 5,
   "metadata": {
    "colab": {},
    "colab_type": "code",
    "id": "OT2QGDNkHAu4"
   },
   "outputs": [],
   "source": [
    "data2['origin'] = 'train'\n",
    "submission['origin'] = 'test'\n",
    "matrix = pd.concat([data2, submission], ignore_index=True, sort=False)\n",
    "matrix.drop(['prob'], axis=1, inplace=True)\n",
    "# 连接user_info表，通过user_id关联\n",
    "matrix = matrix.merge(data1, on='user_id', how='left')\n",
    "# 使用merchant_id（原列名seller_id）\n",
    "data.rename(columns={'seller_id':'merchant_id'}, inplace=True)"
   ]
  },
  {
   "cell_type": "code",
   "execution_count": 6,
   "metadata": {
    "colab": {
     "base_uri": "https://localhost:8080/",
     "height": 50
    },
    "colab_type": "code",
    "id": "Emc8OvZvHAu8",
    "outputId": "5836054e-8a9d-4cdc-d7cc-db1865b4844e"
   },
   "outputs": [
    {
     "name": "stdout",
     "output_type": "stream",
     "text": [
      "CPU times: user 9.19 s, sys: 5.35 s, total: 14.5 s\n",
      "Wall time: 15.1 s\n"
     ]
    },
    {
     "data": {
      "text/plain": [
       "0"
      ]
     },
     "execution_count": 6,
     "metadata": {},
     "output_type": "execute_result"
    }
   ],
   "source": [
    "%%time\n",
    "# 格式化\n",
    "data['user_id'] = data['user_id'].astype('int32')\n",
    "data['merchant_id'] = data['merchant_id'].astype('int32')\n",
    "data['item_id'] = data['item_id'].astype('int32')\n",
    "data['cat_id'] = data['cat_id'].astype('int32')\n",
    "data['brand_id'].fillna(0, inplace=True)\n",
    "data['brand_id'] = data['brand_id'].astype('int32')\n",
    "data['time_stamp'] = pd.to_datetime(data['time_stamp'], format='%H%M')\n",
    "# 缺失值填充\n",
    "matrix['age_range'].fillna(0, inplace=True)\n",
    "matrix['gender'].fillna(2, inplace=True)\n",
    "\n",
    "# # gender用众数填充 表现更差\n",
    "# matrix['gender'].fillna(matrix['gender'].mode()[0],inplace=True)\n",
    "# # 年龄用中位数填充\n",
    "# matrix['age_range'].fillna(matrix['age_range'].median(),inplace=True)\n",
    "\n",
    "matrix['age_range'] = matrix['age_range'].astype('int8')\n",
    "matrix['gender'] = matrix['gender'].astype('int8')\n",
    "matrix['label'] = matrix['label'].astype('str')\n",
    "matrix['user_id'] = matrix['user_id'].astype('int32')\n",
    "matrix['merchant_id'] = matrix['merchant_id'].astype('int32')\n",
    "\n",
    "del data1, data2\n",
    "gc.collect()"
   ]
  },
  {
   "cell_type": "markdown",
   "metadata": {},
   "source": [
    "## 特征处理"
   ]
  },
  {
   "cell_type": "code",
   "execution_count": 7,
   "metadata": {
    "colab": {
     "base_uri": "https://localhost:8080/",
     "height": 50
    },
    "colab_type": "code",
    "id": "2FbHkI6RHAu_",
    "outputId": "f53d20cc-9b15-4778-9f4f-9387fbed316e"
   },
   "outputs": [
    {
     "name": "stdout",
     "output_type": "stream",
     "text": [
      "CPU times: user 1min 43s, sys: 7.82 s, total: 1min 51s\n",
      "Wall time: 1min 52s\n"
     ]
    },
    {
     "data": {
      "text/plain": [
       "11"
      ]
     },
     "execution_count": 7,
     "metadata": {},
     "output_type": "execute_result"
    }
   ],
   "source": [
    "%%time\n",
    "\n",
    "\n",
    "##### User特征处理\n",
    "groups = data.groupby(['user_id'])\n",
    "# 用户交互行为数量 u1\n",
    "temp = groups.size().reset_index().rename(columns={0:'u1'})\n",
    "matrix = matrix.merge(temp, on='user_id', how='left')\n",
    "# 使用agg 基于列的聚合操作，统计唯一值个数 item_id, cat_id, merchant_id, brand_id\n",
    "temp = groups['item_id'].agg([('u2', 'nunique')]).reset_index()\n",
    "matrix = matrix.merge(temp, on='user_id', how='left')\n",
    "temp = groups['cat_id'].agg([('u3', 'nunique')]).reset_index()\n",
    "matrix = matrix.merge(temp, on='user_id', how='left')\n",
    "temp = groups['merchant_id'].agg([('u4', 'nunique')]).reset_index()\n",
    "matrix = matrix.merge(temp, on='user_id', how='left')\n",
    "temp = groups['brand_id'].agg([('u5', 'nunique')]).reset_index()\n",
    "matrix = matrix.merge(temp, on='user_id', how='left')\n",
    "# 时间间隔特征 u6 按照小时\n",
    "temp = groups['time_stamp'].agg([('F_time', 'min'), ('L_time', 'max')]).reset_index()\n",
    "temp['u6'] = (temp['L_time'] - temp['F_time']).dt.seconds/3600\n",
    "matrix = matrix.merge(temp[['user_id', 'u6']], on='user_id', how='left')\n",
    "# 统计操作类型为0，1，2，3的个数\n",
    "temp = groups['action_type'].value_counts().unstack().reset_index().rename(  \n",
    "    columns={0:'u7', 1:'u8', 2:'u9', 3:'u10'})\n",
    "matrix = matrix.merge(temp, on='user_id', how='left')\n",
    "\n",
    "del temp\n",
    "gc.collect()"
   ]
  },
  {
   "cell_type": "code",
   "execution_count": 8,
   "metadata": {
    "colab": {
     "base_uri": "https://localhost:8080/",
     "height": 104
    },
    "colab_type": "code",
    "id": "YnvNCjc4HAvC",
    "outputId": "b8dfd4d9-f649-4e74-e695-4e0bf91ffe6e"
   },
   "outputs": [
    {
     "name": "stderr",
     "output_type": "stream",
     "text": [
      "<timed exec>:7: FutureWarning: Indexing with multiple keys (implicitly converted to a tuple of keys) will be deprecated, use a list instead.\n"
     ]
    },
    {
     "name": "stdout",
     "output_type": "stream",
     "text": [
      "CPU times: user 1min 32s, sys: 9.14 s, total: 1min 42s\n",
      "Wall time: 1min 43s\n"
     ]
    },
    {
     "data": {
      "text/plain": [
       "0"
      ]
     },
     "execution_count": 8,
     "metadata": {},
     "output_type": "execute_result"
    }
   ],
   "source": [
    "%%time\n",
    "\n",
    "##### 商家特征处理\n",
    "groups = data.groupby(['merchant_id'])\n",
    "# 商家被交互行为数量 m1\n",
    "temp = groups.size().reset_index().rename(columns={0:'m1'})\n",
    "matrix = matrix.merge(temp, on='merchant_id', how='left')\n",
    "# 统计商家被交互的user_id, item_id, cat_id, brand_id 唯一值\n",
    "temp = groups['user_id', 'item_id', 'cat_id', 'brand_id'].nunique().reset_index().rename(columns={\n",
    "    'user_id':'m2',\n",
    "    'item_id':'m3', \n",
    "    'cat_id':'m4', \n",
    "    'brand_id':'m5'})\n",
    "matrix = matrix.merge(temp, on='merchant_id', how='left')\n",
    "# 统计商家被交互的action_type 唯一值\n",
    "temp = groups['action_type'].value_counts().unstack().reset_index().rename(  \n",
    "    columns={0:'m6', 1:'m7', 2:'m8', 3:'m9'})\n",
    "matrix = matrix.merge(temp, on='merchant_id', how='left')\n",
    "\n",
    "del temp\n",
    "gc.collect()"
   ]
  },
  {
   "cell_type": "code",
   "execution_count": 9,
   "metadata": {
    "colab": {},
    "colab_type": "code",
    "id": "vABAeEfhHAvF"
   },
   "outputs": [],
   "source": [
    "# 按照merchant_id 统计随机负采样的个数\n",
    "temp = data_train[data_train['label']==-1].groupby(['merchant_id']).size().reset_index().rename(columns={0:'m10'})\n",
    "matrix = matrix.merge(temp, on='merchant_id', how='left')"
   ]
  },
  {
   "cell_type": "code",
   "execution_count": 10,
   "metadata": {
    "colab": {
     "base_uri": "https://localhost:8080/",
     "height": 104
    },
    "colab_type": "code",
    "id": "n9FRm4FyHAvI",
    "outputId": "800ce225-0731-4d10-8c55-4b7cac22a4d8"
   },
   "outputs": [
    {
     "name": "stderr",
     "output_type": "stream",
     "text": [
      "<timed exec>:5: FutureWarning: Indexing with multiple keys (implicitly converted to a tuple of keys) will be deprecated, use a list instead.\n"
     ]
    },
    {
     "name": "stdout",
     "output_type": "stream",
     "text": [
      "CPU times: user 3min 23s, sys: 28 s, total: 3min 51s\n",
      "Wall time: 3min 57s\n"
     ]
    },
    {
     "data": {
      "text/plain": [
       "11"
      ]
     },
     "execution_count": 10,
     "metadata": {},
     "output_type": "execute_result"
    }
   ],
   "source": [
    "%%time\n",
    "##### 用户+商户特征\n",
    "groups = data.groupby(['user_id', 'merchant_id'])\n",
    "temp = groups.size().reset_index().rename(columns={0:'um1'})\n",
    "matrix = matrix.merge(temp, on=['user_id', 'merchant_id'], how='left')\n",
    "temp = groups['item_id', 'cat_id', 'brand_id'].nunique().reset_index().rename(columns={\n",
    "    'item_id':'um2',\n",
    "    'cat_id':'um3',\n",
    "    'brand_id':'um4'\n",
    "})\n",
    "matrix = matrix.merge(temp, on=['user_id', 'merchant_id'], how='left')\n",
    "temp = groups['action_type'].value_counts().unstack().reset_index().rename(columns={\n",
    "    0:'um5',\n",
    "    1:'um6',\n",
    "    2:'um7',\n",
    "    3:'um8'\n",
    "})\n",
    "matrix = matrix.merge(temp, on=['user_id', 'merchant_id'], how='left')\n",
    "temp = groups['time_stamp'].agg([('frist', 'min'), ('last', 'max')]).reset_index()\n",
    "temp['um9'] = (temp['last'] - temp['frist']).dt.seconds/3600\n",
    "temp.drop(['frist', 'last'], axis=1, inplace=True)\n",
    "matrix = matrix.merge(temp, on=['user_id', 'merchant_id'], how='left')\n",
    "\n",
    "del temp\n",
    "gc.collect()"
   ]
  },
  {
   "cell_type": "code",
   "execution_count": 11,
   "metadata": {
    "colab": {},
    "colab_type": "code",
    "id": "bq0Ss1SvHAvK"
   },
   "outputs": [],
   "source": [
    "\n",
    "matrix['r1'] = matrix['u9']/matrix['u7'] # 用户购买点击比\n",
    "matrix['r2'] = matrix['m8']/matrix['m6'] # 商家购买点击比\n",
    "matrix['r3'] = matrix['um7']/matrix['um5'] #不同用户不同商家购买点击比"
   ]
  },
  {
   "cell_type": "code",
   "execution_count": 12,
   "metadata": {
    "colab": {},
    "colab_type": "code",
    "id": "r1RSi-7_HAvN"
   },
   "outputs": [],
   "source": [
    "matrix.fillna(0, inplace=True)"
   ]
  },
  {
   "cell_type": "code",
   "execution_count": 13,
   "metadata": {
    "colab": {
     "base_uri": "https://localhost:8080/",
     "height": 50
    },
    "colab_type": "code",
    "id": "fFr7DhmAHAvP",
    "outputId": "3f308416-f212-481f-e9c3-41fbe8a364a8"
   },
   "outputs": [
    {
     "name": "stdout",
     "output_type": "stream",
     "text": [
      "CPU times: user 444 ms, sys: 158 ms, total: 602 ms\n",
      "Wall time: 679 ms\n"
     ]
    },
    {
     "data": {
      "text/plain": [
       "60"
      ]
     },
     "execution_count": 13,
     "metadata": {},
     "output_type": "execute_result"
    }
   ],
   "source": [
    "%%time\n",
    "# # 修改age_range字段名称为 age_0, age_1, age_2... age_8\n",
    "temp = pd.get_dummies(matrix['age_range'], prefix='age')\n",
    "matrix = pd.concat([matrix, temp], axis=1)\n",
    "temp = pd.get_dummies(matrix['gender'], prefix='g')\n",
    "matrix = pd.concat([matrix, temp], axis=1)\n",
    "matrix.drop(['age_range', 'gender'], axis=1, inplace=True)\n",
    "\n",
    "del temp\n",
    "gc.collect()"
   ]
  },
  {
   "cell_type": "code",
   "execution_count": 14,
   "metadata": {},
   "outputs": [
    {
     "name": "stderr",
     "output_type": "stream",
     "text": [
      "<ipython-input-14-a6201c610e35>:5: FutureWarning: Indexing with multiple keys (implicitly converted to a tuple of keys) will be deprecated, use a list instead.\n",
      "  temp=pd.DataFrame(data.groupby('user_id')['merchant_id','action_type'].agg(lambda x:list(x)))\n"
     ]
    },
    {
     "data": {
      "text/plain": [
       "0"
      ]
     },
     "execution_count": 14,
     "metadata": {},
     "output_type": "execute_result"
    }
   ],
   "source": [
    "\n",
    "lbe_action_type={0:1,1:2,2:3,3:4}\n",
    "data['action_type']=data['action_type'].map(lbe_action_type)\n",
    "# 用户行为sequence\n",
    "# 把data里同user的这些数据合并成一个list\n",
    "temp=pd.DataFrame(data.groupby('user_id')['merchant_id','action_type'].agg(lambda x:list(x)))\n",
    "# 列名称改成hist_merchant_id 和 hist_action_type \n",
    "temp.columns=['hist_merchant_id','hist_action_type']\n",
    "\n",
    "matrix = matrix.merge(temp, on=['user_id'], how='left') #统计时间间隔\n",
    "\n",
    "\n",
    "del temp\n",
    "gc.collect()\n"
   ]
  },
  {
   "cell_type": "code",
   "execution_count": 15,
   "metadata": {},
   "outputs": [],
   "source": [
    "\n",
    "# 截取，不缺到定长M个\n",
    "M=500\n",
    "for feature in ['hist_merchant_id','hist_action_type']:\n",
    "    matrix[feature]=matrix[feature].map(lambda x:np.array(x+[0]*(M-len(x)))[:M])\n"
   ]
  },
  {
   "cell_type": "code",
   "execution_count": 16,
   "metadata": {
    "colab": {
     "base_uri": "https://localhost:8080/",
     "height": 50
    },
    "colab_type": "code",
    "id": "-1cqxyEpHAvS",
    "outputId": "c523e9a4-acf4-426e-9387-84f816b03e2a"
   },
   "outputs": [
    {
     "name": "stdout",
     "output_type": "stream",
     "text": [
      "CPU times: user 482 ms, sys: 400 ms, total: 882 ms\n",
      "Wall time: 907 ms\n"
     ]
    }
   ],
   "source": [
    "%%time\n",
    "# train、test-setdata\n",
    "train_data = matrix[matrix['origin'] == 'train'].drop(['origin'], axis=1)\n",
    "test_data = matrix[matrix['origin'] == 'test'].drop(['label', 'origin'], axis=1)\n",
    "\n",
    "if not LOCAL_QUICK:\n",
    "    if FE_V1:\n",
    "        train_data.to_csv('train_data.csv')\n",
    "        test_data.to_csv('test_data.csv')\n",
    "    if MORE_FE:\n",
    "        train_data.to_csv('train_data_moreFE.csv')\n",
    "        test_data.to_csv('test_data_moreFE.csv')\n"
   ]
  },
  {
   "cell_type": "markdown",
   "metadata": {
    "colab_type": "text",
    "id": "lWOUo9DVPiGa"
   },
   "source": [
    "# 模型训练与预测"
   ]
  },
  {
   "cell_type": "code",
   "execution_count": 17,
   "metadata": {
    "colab": {},
    "colab_type": "code",
    "id": "50VkvAJcHAvV"
   },
   "outputs": [],
   "source": [
    "# get data\n",
    "if not LOCAL_QUICK:\n",
    "    if FE_V1:\n",
    "        train_data = pd.read_csv('train_data.csv')\n",
    "        test_data = pd.read_csv('test_data.csv')\n",
    "    if MORE_FE:\n",
    "        train_data = pd.read_csv('train_data_moreFE.csv')\n",
    "        test_data = pd.read_csv('test_data_moreFE.csv')  \n",
    "\n",
    "# FeatureSelect_QUICK = True # Feature Select\n",
    "FeatureSelect_QUICK = False \n",
    "if FeatureSelect_QUICK: # 使用部分样本进行快速特征选择\n",
    "    train_data = train_data.sample(int(len(train_data) * sample_percent))\n",
    "\n",
    "# train_data = train_data[train_col]\n",
    "train_X, train_y = train_data.drop(['label'], axis=1), train_data['label']\n",
    "\n",
    "del train_data\n",
    "\n",
    "X_train, X_valid, y_train, y_valid = train_test_split(train_X, train_y, test_size=.2, random_state=42) # test_size=.3"
   ]
  },
  {
   "cell_type": "code",
   "execution_count": 18,
   "metadata": {},
   "outputs": [
    {
     "name": "stdout",
     "output_type": "stream",
     "text": [
      "(208691, 48)\n"
     ]
    }
   ],
   "source": [
    "print(X_train.shape)"
   ]
  },
  {
   "cell_type": "code",
   "execution_count": 19,
   "metadata": {},
   "outputs": [
    {
     "data": {
      "text/plain": [
       "0         0.0\n",
       "1         0.0\n",
       "2         1.0\n",
       "3         0.0\n",
       "4         0.0\n",
       "         ... \n",
       "260859    0.0\n",
       "260860    0.0\n",
       "260861    0.0\n",
       "260862    0.0\n",
       "260863    0.0\n",
       "Name: label, Length: 260864, dtype: float64"
      ]
     },
     "execution_count": 19,
     "metadata": {},
     "output_type": "execute_result"
    }
   ],
   "source": [
    "train_y = train_y.astype('float')\n",
    "train_y"
   ]
  },
  {
   "cell_type": "markdown",
   "metadata": {
    "colab_type": "text",
    "id": "yqaIdRNDxRjj"
   },
   "source": [
    "## XGB Model"
   ]
  },
  {
   "cell_type": "code",
   "execution_count": 0,
   "metadata": {
    "colab": {
     "base_uri": "https://localhost:8080/",
     "height": 50
    },
    "colab_type": "code",
    "id": "17s8JUMYHAvi",
    "outputId": "ea67e253-a58c-45bd-d9c7-ce7315cfc011"
   },
   "outputs": [
    {
     "name": "stdout",
     "output_type": "stream",
     "text": [
      "CPU times: user 9 µs, sys: 0 ns, total: 9 µs\n",
      "Wall time: 13.4 µs\n"
     ]
    }
   ],
   "source": [
    "%%time\n",
    "def xgb_train(X_train, y_train, X_valid, y_valid, verbose=True):\n",
    "    model_xgb = xgb.XGBClassifier(\n",
    "        max_depth=10, # raw8\n",
    "        n_estimators=1000,\n",
    "        min_child_weight=300, \n",
    "        colsample_bytree=0.8, \n",
    "        subsample=0.8, \n",
    "        eta=0.3,    \n",
    "        seed=42        \n",
    "    )\n",
    "\n",
    "    model_xgb.fit(\n",
    "        X_train, \n",
    "        y_train,\n",
    "        eval_metric='auc',\n",
    "        eval_set=[(X_train, y_train), (X_valid, y_valid)],\n",
    "        verbose=verbose,\n",
    "        early_stopping_rounds=10 # 早停法，如果auc在10epoch没有进步就stop\n",
    "    )\n",
    "    print(model_xgb.best_score)\n",
    "    return model_xgb"
   ]
  },
  {
   "cell_type": "code",
   "execution_count": 0,
   "metadata": {
    "colab": {
     "base_uri": "https://localhost:8080/",
     "height": 34
    },
    "colab_type": "code",
    "id": "ephCxUW5bUOt",
    "outputId": "1e6da369-bc25-46fc-cb58-ea7f482b20d7"
   },
   "outputs": [
    {
     "name": "stdout",
     "output_type": "stream",
     "text": [
      "0.689278\n"
     ]
    }
   ],
   "source": [
    "model_xgb = xgb_train(X_train, y_train, X_valid, y_valid, verbose=False)"
   ]
  },
  {
   "cell_type": "code",
   "execution_count": 0,
   "metadata": {
    "colab": {
     "base_uri": "https://localhost:8080/",
     "height": 50
    },
    "colab_type": "code",
    "id": "pZvHurIDHAvj",
    "outputId": "6b5ebd6b-4f5c-4f59-9ce2-4f555f645961"
   },
   "outputs": [
    {
     "name": "stdout",
     "output_type": "stream",
     "text": [
      "CPU times: user 4.44 s, sys: 11.2 ms, total: 4.45 s\n",
      "Wall time: 4.48 s\n"
     ]
    }
   ],
   "source": [
    "%%time\n",
    "prob = model_xgb.predict_proba(test_data)\n",
    "\n",
    "submission['prob'] = pd.Series(prob[:,1])\n",
    "# submission.drop(['origin'], axis=1, inplace=True)\n",
    "submission.to_csv('submission_xgb.csv', index=False)"
   ]
  },
  {
   "cell_type": "markdown",
   "metadata": {
    "colab_type": "text",
    "id": "WmivfIenrLMR"
   },
   "source": [
    "## LGB Model"
   ]
  },
  {
   "cell_type": "code",
   "execution_count": 0,
   "metadata": {
    "colab": {},
    "colab_type": "code",
    "id": "kNz-dghnpJPR"
   },
   "outputs": [],
   "source": [
    "############DEF:lgb_train################\n",
    "def lgb_train(X_train, y_train, X_valid, y_valid, verbose=True):\n",
    "    model_lgb = lgb.LGBMClassifier(\n",
    "        max_depth=10, # 8\n",
    "        n_estimators=1000,\n",
    "        min_child_weight=200, \n",
    "        colsample_bytree=0.8, \n",
    "        subsample=0.8, \n",
    "        eta=0.3,    \n",
    "        seed=42        \n",
    "    )\n",
    "\n",
    "    model_lgb.fit(\n",
    "        X_train, \n",
    "        y_train,\n",
    "        eval_metric='auc',\n",
    "        eval_set=[(X_train, y_train), (X_valid, y_valid)],\n",
    "        verbose=verbose,\n",
    "        early_stopping_rounds=10\n",
    "    )\n",
    "\n",
    "    print(model_lgb.best_score_['valid_1']['auc'])\n",
    "    return model_lgb"
   ]
  },
  {
   "cell_type": "code",
   "execution_count": 0,
   "metadata": {
    "colab": {
     "base_uri": "https://localhost:8080/",
     "height": 34
    },
    "colab_type": "code",
    "id": "2UIZFG6wrCob",
    "outputId": "09e47aa8-08d5-4ab7-d108-b8445868a0fb"
   },
   "outputs": [
    {
     "name": "stdout",
     "output_type": "stream",
     "text": [
      "0.6882175357469706\n"
     ]
    }
   ],
   "source": [
    "model_lgb = lgb_train(X_train, y_train, X_valid, y_valid, verbose=False)"
   ]
  },
  {
   "cell_type": "code",
   "execution_count": 0,
   "metadata": {
    "colab": {
     "base_uri": "https://localhost:8080/",
     "height": 50
    },
    "colab_type": "code",
    "id": "GX4r_eZ5O5IC",
    "outputId": "dd4b540b-fd8a-400b-ee27-ca4357c91432"
   },
   "outputs": [
    {
     "name": "stdout",
     "output_type": "stream",
     "text": [
      "CPU times: user 4.29 s, sys: 14.5 ms, total: 4.3 s\n",
      "Wall time: 5.55 s\n"
     ]
    }
   ],
   "source": [
    "%%time\n",
    "prob = model_lgb.predict_proba(test_data)\n",
    "submission['prob'] = pd.Series(prob[:,1])\n",
    "# submission.drop(['origin'], axis=1, inplace=True)\n",
    "submission.to_csv('submission_lgb.csv', index=False)"
   ]
  },
  {
   "cell_type": "markdown",
   "metadata": {
    "colab_type": "text",
    "id": "VE73pxHEtY_r"
   },
   "source": [
    "## Cat Model"
   ]
  },
  {
   "cell_type": "code",
   "execution_count": 0,
   "metadata": {
    "colab": {},
    "colab_type": "code",
    "id": "8hWUQDp2t_tr"
   },
   "outputs": [],
   "source": [
    "def cat_train(X_train, y_train, X_valid, y_valid, verbose=True):\n",
    "    model_cat = cat.CatBoostClassifier(learning_rate=0.02, iterations=5000, eval_metric='AUC', od_wait=50,\n",
    "                                od_type='Iter', random_state=10, thread_count=8, l2_leaf_reg=1, verbose=verbose)\n",
    "    model_cat.fit(X_train, y_train, eval_set=[(X_valid, y_valid)], early_stopping_rounds=50,\n",
    "            use_best_model=True)\n",
    "\n",
    "    print(model_cat.best_score_['validation']['AUC'])\n",
    "    return model_cat"
   ]
  },
  {
   "cell_type": "code",
   "execution_count": 0,
   "metadata": {
    "colab": {
     "base_uri": "https://localhost:8080/",
     "height": 34
    },
    "colab_type": "code",
    "id": "Jsn3fl0avds1",
    "outputId": "56e8515a-21bb-4169-bded-2945c60e4ef1"
   },
   "outputs": [
    {
     "name": "stdout",
     "output_type": "stream",
     "text": [
      "0.6888438643692378\n"
     ]
    }
   ],
   "source": [
    "model_cat = cat_train(X_train, y_train, X_valid, y_valid, verbose=False)"
   ]
  },
  {
   "cell_type": "code",
   "execution_count": 0,
   "metadata": {
    "colab": {
     "base_uri": "https://localhost:8080/",
     "height": 50
    },
    "colab_type": "code",
    "id": "sCfec6TrxK_A",
    "outputId": "bfae6027-a577-48b6-f163-a7180ffda7f8"
   },
   "outputs": [
    {
     "name": "stdout",
     "output_type": "stream",
     "text": [
      "CPU times: user 1.36 s, sys: 18.5 ms, total: 1.38 s\n",
      "Wall time: 2.26 s\n"
     ]
    }
   ],
   "source": [
    "%%time\n",
    "prob = model_cat.predict_proba(test_data)\n",
    "submission['prob'] = pd.Series(prob[:,1])\n",
    "# submission.drop(['origin'], axis=1, inplace=True)\n",
    "submission.to_csv('submission_cat.csv', index=False)"
   ]
  },
  {
   "cell_type": "markdown",
   "metadata": {
    "colab_type": "text",
    "id": "AvMQL3-Mb4cA"
   },
   "source": [
    "# StratifiedKFold"
   ]
  },
  {
   "cell_type": "code",
   "execution_count": 0,
   "metadata": {
    "colab": {},
    "colab_type": "code",
    "id": "pdGoRvWOlbqv"
   },
   "outputs": [],
   "source": [
    "# 构造训练集和测试集\n",
    "def get_train_testDF(train_df,label_df):\n",
    "    skv = StratifiedKFold(n_splits=5, shuffle=True, random_state=42)\n",
    "    trainX = []\n",
    "    trainY = []\n",
    "    testX = []\n",
    "    testY = []\n",
    "    for train_index, test_index in skv.split(X=train_df, y=label_df):\n",
    "        train_x, train_y, test_x, test_y = train_df.iloc[train_index, :], label_df.iloc[train_index], \\\n",
    "                                            train_df.iloc[test_index, :], label_df.iloc[test_index]\n",
    "\n",
    "        trainX.append(train_x)\n",
    "        trainY.append(train_y)\n",
    "        testX.append(test_x)\n",
    "        testY.append(test_y)\n",
    "    return trainX, testX, trainY, testY"
   ]
  },
  {
   "cell_type": "markdown",
   "metadata": {
    "colab_type": "text",
    "id": "Uo2UhAdaWYwr"
   },
   "source": [
    "## lightgbm"
   ]
  },
  {
   "cell_type": "code",
   "execution_count": 0,
   "metadata": {
    "colab": {},
    "colab_type": "code",
    "id": "A2lnyIEKQG8g"
   },
   "outputs": [],
   "source": [
    "# get data\n",
    "if not LOCAL_QUICK:\n",
    "    if FE_V1:\n",
    "        train_data = pd.read_csv('train_data.csv')\n",
    "        test_data = pd.read_csv('test_data.csv')\n",
    "    if MORE_FE:\n",
    "        train_data = pd.read_csv('train_data_moreFE.csv')\n",
    "        test_data = pd.read_csv('test_data_moreFE.csv')  \n",
    "\n",
    "train_X, train_y = train_data.drop(['label'], axis=1), train_data['label']\n",
    "\n",
    "del train_data\n",
    "\n",
    "# Split Train&Valid Data\n",
    "X_train, X_valid, y_train, y_valid = get_train_testDF(train_X, train_y)"
   ]
  },
  {
   "cell_type": "code",
   "execution_count": 0,
   "metadata": {
    "colab": {
     "base_uri": "https://localhost:8080/",
     "height": 588
    },
    "colab_type": "code",
    "id": "dtYojZzeb5AP",
    "outputId": "1efc1976-0f77-48bc-910a-ac59ab88bc6b"
   },
   "outputs": [
    {
     "name": "stdout",
     "output_type": "stream",
     "text": [
      "\n",
      "============================LGB training use Data 1/5============================\n",
      "\n",
      "0.6814285066081079\n",
      "\n",
      "============================LGB training use Data 2/5============================\n",
      "\n",
      "0.678075817616207\n",
      "\n",
      "============================LGB training use Data 3/5============================\n",
      "\n",
      "0.6769034528266582\n",
      "\n",
      "============================LGB training use Data 4/5============================\n",
      "\n",
      "0.678130625463615\n",
      "\n",
      "============================LGB training use Data 5/5============================\n",
      "\n",
      "0.6776812517271715\n",
      "               0         0         0         0         0\n",
      "0       0.172597  0.139495  0.174839  0.202953  0.120382\n",
      "1       0.077612  0.068260  0.091190  0.073946  0.055343\n",
      "2       0.085269  0.091514  0.093136  0.093108  0.082051\n",
      "3       0.085579  0.094960  0.102522  0.106962  0.098253\n",
      "4       0.049972  0.054350  0.054020  0.068434  0.044841\n",
      "...          ...       ...       ...       ...       ...\n",
      "260859  0.049012  0.062446  0.071548  0.066920  0.082217\n",
      "260860  0.039762  0.029111  0.031687  0.033621  0.027339\n",
      "260861  0.019739  0.020501  0.021444  0.015976  0.015180\n",
      "260862  0.037017  0.034872  0.044972  0.033323  0.033951\n",
      "260863  0.028490  0.035417  0.025533  0.027674  0.028257\n",
      "\n",
      "[260864 rows x 5 columns]\n"
     ]
    }
   ],
   "source": [
    "# 将训练数据集划分分别训练5个lgbm,xgboost和catboost 模型\n",
    "# lightgbm模型\n",
    "\n",
    "pred_lgbms = []\n",
    "for i in range(5):\n",
    "    print('\\n============================LGB training use Data {}/5============================\\n'.format(i+1))\n",
    "    model_lgb = lgb.LGBMClassifier(\n",
    "        max_depth=10, # 8\n",
    "        n_estimators=1000,\n",
    "        min_child_weight=200, \n",
    "        colsample_bytree=0.8, \n",
    "        subsample=0.8, \n",
    "        eta=0.3,    \n",
    "        seed=42\n",
    "    )\n",
    "\n",
    "    model_lgb.fit(\n",
    "        X_train[i], \n",
    "        y_train[i],\n",
    "        eval_metric='auc',\n",
    "        eval_set=[(X_train[i], y_train[i]), (X_valid[i], y_valid[i])],\n",
    "        verbose=False,\n",
    "        early_stopping_rounds=10\n",
    "    )\n",
    "\n",
    "    print(model_lgb.best_score_['valid_1']['auc'])\n",
    "\n",
    "    pred = model_lgb.predict_proba(test_data)\n",
    "    pred = pd.DataFrame(pred[:,1])\n",
    "    pred_lgbms.append(pred)\n",
    "pred_lgbms = pd.concat(pred_lgbms, axis=1)\n",
    "print(pred_lgbms)\n",
    "\n",
    "submission['prob'] = pred_lgbms.mean(axis=1)\n",
    "# submission.drop(['origin'], axis=1, inplace=True)\n",
    "submission.to_csv('submission_KFold_lgb.csv', index=False)\n",
    "\n",
    "####0.6784"
   ]
  },
  {
   "cell_type": "markdown",
   "metadata": {
    "colab_type": "text",
    "id": "Mh8hsgKgWow2"
   },
   "source": [
    "## catgbm"
   ]
  },
  {
   "cell_type": "code",
   "execution_count": 0,
   "metadata": {
    "colab": {},
    "colab_type": "code",
    "id": "RH095k2_Y2ec"
   },
   "outputs": [],
   "source": [
    "# get data\n",
    "if not LOCAL_QUICK:\n",
    "    if FE_V1:\n",
    "        train_data = pd.read_csv('train_data.csv')\n",
    "        test_data = pd.read_csv('test_data.csv')\n",
    "    if MORE_FE:\n",
    "        train_data = pd.read_csv('train_data_moreFE.csv')\n",
    "        test_data = pd.read_csv('test_data_moreFE.csv')  \n",
    "\n",
    "train_X, train_y = train_data.drop(['label'], axis=1), train_data['label']\n",
    "\n",
    "del train_data\n",
    "\n",
    "# Split Train&Valid Data\n",
    "X_train, X_valid, y_train, y_valid = get_train_testDF(train_X, train_y)"
   ]
  },
  {
   "cell_type": "code",
   "execution_count": 0,
   "metadata": {
    "colab": {
     "base_uri": "https://localhost:8080/",
     "height": 353
    },
    "colab_type": "code",
    "id": "zN_dhID6qOsD",
    "outputId": "172b1b75-e5ad-4f08-dbfd-d1ccb3b985dc"
   },
   "outputs": [
    {
     "name": "stdout",
     "output_type": "stream",
     "text": [
      "\n",
      "============================CAT training use Data 1/5============================\n",
      "\n",
      "0.6824405044370522\n",
      "\n",
      "============================CAT training use Data 2/5============================\n",
      "\n",
      "0.6802216199760176\n",
      "\n",
      "============================CAT training use Data 3/5============================\n",
      "\n",
      "0.6778579794359316\n",
      "\n",
      "============================CAT training use Data 4/5============================\n",
      "\n",
      "0.6791038275100539\n",
      "\n",
      "============================CAT training use Data 5/5============================\n",
      "\n",
      "0.6804717208509453\n"
     ]
    }
   ],
   "source": [
    "# 将训练数据集划分分别训练5个lgbm,xgboost和catboost 模型\n",
    "# catgbm模型\n",
    "\n",
    "pred_cats = []\n",
    "for i in range(5):\n",
    "    print('\\n============================CAT training use Data {}/5============================\\n'.format(i+1))\n",
    "    model_cat = cat.CatBoostClassifier(learning_rate=0.02, iterations=5000, eval_metric='AUC', od_wait=50,\n",
    "                                od_type='Iter', random_state=10, thread_count=8, l2_leaf_reg=1, verbose=False)\n",
    "    model_cat.fit(X_train[i], y_train[i], eval_set=[(X_valid[i], y_valid[i])], early_stopping_rounds=50,\n",
    "            use_best_model=True)\n",
    "    # print(model_cat.evals_result_)\n",
    "    print(model_cat.best_score_['validation']['AUC'])\n",
    "\n",
    "    pred = model_cat.predict_proba(test_data)\n",
    "    pred = pd.DataFrame(pred[:,1])\n",
    "    pred_cats.append(pred)\n",
    "pred_cats = pd.concat(pred_cats, axis=1)\n",
    "\n",
    "submission['prob'] = pred_cats.mean(axis=1)\n",
    "# submission.drop(['origin'], axis=1, inplace=True)\n",
    "submission.to_csv('submission_KFold_cat.csv', index=False)\n",
    "\n",
    "\n",
    "#### 0.68001"
   ]
  },
  {
   "cell_type": "markdown",
   "metadata": {
    "colab_type": "text",
    "id": "49QqMtKjWtBX"
   },
   "source": [
    "## xgboost"
   ]
  },
  {
   "cell_type": "code",
   "execution_count": 0,
   "metadata": {
    "colab": {},
    "colab_type": "code",
    "id": "u7Gv2OW2ZPTG"
   },
   "outputs": [],
   "source": [
    "# get data\n",
    "if not LOCAL_QUICK:\n",
    "    if FE_V1:\n",
    "        train_data = pd.read_csv('train_data.csv')\n",
    "        test_data = pd.read_csv('test_data.csv')\n",
    "    if MORE_FE:\n",
    "        train_data = pd.read_csv('train_data_moreFE.csv')\n",
    "        test_data = pd.read_csv('test_data_moreFE.csv')  \n",
    "\n",
    "train_X, train_y = train_data.drop(['label'], axis=1), train_data['label']\n",
    "\n",
    "del train_data\n",
    "\n",
    "# Split Train&Valid Data\n",
    "X_train, X_valid, y_train, y_valid = get_train_testDF(train_X, train_y)"
   ]
  },
  {
   "cell_type": "code",
   "execution_count": 0,
   "metadata": {
    "colab": {
     "base_uri": "https://localhost:8080/",
     "height": 353
    },
    "colab_type": "code",
    "id": "bnCAP5aRt4y_",
    "outputId": "44d45321-4d6f-423b-8dbc-de3cf3f6370b"
   },
   "outputs": [
    {
     "name": "stdout",
     "output_type": "stream",
     "text": [
      "\n",
      "============================XGB training use Data 1/5============================\n",
      "\n",
      "0.682694\n",
      "\n",
      "============================XGB training use Data 2/5============================\n",
      "\n",
      "0.680635\n",
      "\n",
      "============================XGB training use Data 3/5============================\n",
      "\n",
      "0.677834\n",
      "\n",
      "============================XGB training use Data 4/5============================\n",
      "\n",
      "0.681198\n",
      "\n",
      "============================XGB training use Data 5/5============================\n",
      "\n",
      "0.67939\n"
     ]
    }
   ],
   "source": [
    "# 将训练数据集划分分别训练5个lgbm,xgboost和catboost 模型\n",
    "# xgboost模型\n",
    "\n",
    "pred_xgbs = []\n",
    "for i in range(5):\n",
    "    print('\\n============================XGB training use Data {}/5============================\\n'.format(i+1))\n",
    "    model_xgb = xgb.XGBClassifier(\n",
    "        max_depth=10, # raw8\n",
    "        n_estimators=1000,\n",
    "        min_child_weight=300, \n",
    "        colsample_bytree=0.8, \n",
    "        subsample=0.8, \n",
    "        eta=0.3,    \n",
    "        seed=42        \n",
    "    )\n",
    "\n",
    "    model_xgb.fit(\n",
    "        X_train[i], \n",
    "        y_train[i],\n",
    "        eval_metric='auc',\n",
    "        eval_set=[(X_train[i], y_train[i]), (X_valid[i], y_valid[i])],\n",
    "        verbose=False,\n",
    "        early_stopping_rounds=10 # 早停法，如果auc在10epoch没有进步就stop\n",
    "    )    \n",
    "\n",
    "    print(model_xgb.best_score)\n",
    "\n",
    "    pred = model_xgb.predict_proba(test_data)\n",
    "    pred = pd.DataFrame(pred[:,1])\n",
    "    pred_xgbs.append(pred)\n",
    "pred_xgbs = pd.concat(pred_xgbs, axis=1)\n",
    "\n",
    "# make submission\n",
    "submission['prob'] = pred_xgbs.mean(axis=1)\n",
    "# submission.drop(['origin'], axis=1, inplace=True)\n",
    "submission.to_csv('submission_KFold_xgb.csv', index=False)\n",
    "\n",
    "#### 0.6803"
   ]
  },
  {
   "cell_type": "code",
   "execution_count": 0,
   "metadata": {
    "colab": {},
    "colab_type": "code",
    "id": "J04lvym978Tz"
   },
   "outputs": [],
   "source": [
    "\"\"\"\n",
    "xgb:0.689278, ##KFold## 0.6784\n",
    "lgb:0.688217, ##KFold## 0.6800\n",
    "cat:0.688843, ##KFold## 0.6803\n",
    "\"\"\""
   ]
  },
  {
   "cell_type": "markdown",
   "metadata": {
    "colab_type": "text",
    "id": "PU2TQEoRduwt"
   },
   "source": [
    "## 模型融合"
   ]
  },
  {
   "cell_type": "code",
   "execution_count": 0,
   "metadata": {
    "colab": {},
    "colab_type": "code",
    "id": "mt8eYmt-b_7-"
   },
   "outputs": [],
   "source": [
    "lgb6812 = pd.read_csv(\"submission_lgb0.6812968.csv\")\n",
    "xgb6787 = pd.read_csv(\"submission_xgb0.6787.csv\")\n",
    "cat6777 = pd.read_csv(\"submission_cat-val0.6827785215-onling0.6777246.csv\")"
   ]
  },
  {
   "cell_type": "code",
   "execution_count": 7,
   "metadata": {
    "colab": {
     "base_uri": "https://localhost:8080/",
     "height": 67
    },
    "colab_type": "code",
    "executionInfo": {
     "elapsed": 1414,
     "status": "ok",
     "timestamp": 1588476270709,
     "user": {
      "displayName": "Wang Leo",
      "photoUrl": "",
      "userId": "15935752008260826958"
     },
     "user_tz": -480
    },
    "id": "yD8zZRxXcTNb",
    "outputId": "f9cd2047-688c-4c77-8ec4-c7203b4e1a04"
   },
   "outputs": [
    {
     "data": {
      "text/plain": [
       "array([[1.        , 0.94866069, 0.9108549 ],\n",
       "       [0.94866069, 1.        , 0.9113983 ],\n",
       "       [0.9108549 , 0.9113983 , 1.        ]])"
      ]
     },
     "execution_count": 7,
     "metadata": {
      "tags": []
     },
     "output_type": "execute_result"
    }
   ],
   "source": [
    "# 先构造一个矩阵\n",
    "df = np.array([lgb6812.prob, xgb6787.prob, cat6777.prob])\n",
    "# 计算协方差矩阵\n",
    "np.corrcoef(df)"
   ]
  },
  {
   "cell_type": "code",
   "execution_count": 0,
   "metadata": {
    "colab": {},
    "colab_type": "code",
    "id": "0JSxIMkk9570"
   },
   "outputs": [],
   "source": [
    "sub = lgb6812.copy()\n",
    "\n",
    "sub.prob = 0.6*lgb6812.prob + 0.4*cat6777.prob # Online test score:0.6830807\n",
    "sub.to_csv('./sub_blended11.csv', index=False)\n",
    "####################################0.6833209################################\n",
    "sub.prob = 0.5*lgb6812.prob + 0.3*cat6777.prob + 0.2*xgb6787.prob# Online test 0.6833209\n",
    "sub.to_csv('./sub_blended12.csv', index=False)\n",
    "\n",
    "sub.prob = 0.45*lgb6812.prob + 0.3*cat6777.prob + 0.25*xgb6787.prob# Online test 0.6832934\n",
    "sub.to_csv('./sub_blended13.csv', index=False)\n",
    "####################################0.6833171################################\n",
    "sub.prob = 0.45*lgb6812.prob + 0.35*cat6777.prob + 0.2*xgb6787.prob# Online test 0.6833171\n",
    "sub.to_csv('./sub_blended14.csv', index=False)"
   ]
  },
  {
   "cell_type": "markdown",
   "metadata": {},
   "source": [
    "# 使用DIN模型"
   ]
  },
  {
   "cell_type": "code",
   "execution_count": null,
   "metadata": {},
   "outputs": [],
   "source": [
    "import gc\n",
    "import numpy as np\n",
    "import pandas as pd\n",
    "from sklearn.preprocessing import LabelEncoder\n",
    "\n",
    "# 用户行为，使用format1进行加载\n",
    "# 加载全量样本\n",
    "\"\"\"\n",
    "user_log = pd.read_csv('./data_format1/user_log_format1.csv', dtype={'time_stamp':'str'})\n",
    "user_info = pd.read_csv('./data_format1/user_info_format1.csv')\n",
    "train_data1 = pd.read_csv('./data_format1/train_format1.csv')\n",
    "submission = pd.read_csv('./data_format1/test_format1.csv')\n",
    "\"\"\"\n",
    "# 加载小样本\n",
    "user_log = pd.read_csv('./data_format1_small/sample_user_log.csv', dtype={'time_stamp':'str'})\n",
    "user_info = pd.read_csv('./data_format1_small/sample_user_info.csv')\n",
    "train_data1 = pd.read_csv('./data_format1_small/train.csv')\n",
    "submission = pd.read_csv('./data_format1_small/test.csv')\n",
    "train_data = pd.read_csv('./data_format2/train_format2.csv')"
   ]
  },
  {
   "cell_type": "code",
   "execution_count": 53,
   "metadata": {},
   "outputs": [],
   "source": [
    "\n",
    "train_data1['origin'] = 'train'\n",
    "submission['origin'] = 'test'\n",
    "matrix = pd.concat([train_data1, submission], ignore_index=True, sort=False)\n",
    "#print(matrix)"
   ]
  },
  {
   "cell_type": "code",
   "execution_count": 54,
   "metadata": {},
   "outputs": [],
   "source": [
    "\n",
    "# 使用merchant_id（原列名seller_id）\n",
    "user_log.rename(columns={'seller_id':'merchant_id'}, inplace=True)\n",
    "# 格式化\n",
    "user_log['user_id'] = user_log['user_id'].astype('int32')\n",
    "user_log['merchant_id'] = user_log['merchant_id'].astype('int32')\n",
    "user_log['item_id'] = user_log['item_id'].astype('int32')\n",
    "user_log['cat_id'] = user_log['cat_id'].astype('int32')\n",
    "user_log['brand_id'].fillna(0, inplace=True)\n",
    "user_log['brand_id'] = user_log['brand_id'].astype('int32')\n",
    "user_log['time_stamp'] = pd.to_datetime(user_log['time_stamp'], format='%H%M')"
   ]
  },
  {
   "cell_type": "code",
   "execution_count": 55,
   "metadata": {},
   "outputs": [],
   "source": [
    "\n",
    "# 对离散特征做LabelEncoder\n",
    "lbe_merchant_id=LabelEncoder()\n",
    "lbe_merchant_id.fit(np.r_[0,user_log['merchant_id'].values])\n",
    "user_log['merchant_id']=lbe_merchant_id.transform(user_log['merchant_id'])\n",
    "matrix['merchant_id']=lbe_merchant_id.transform(matrix['merchant_id'])\n"
   ]
  },
  {
   "cell_type": "code",
   "execution_count": 56,
   "metadata": {},
   "outputs": [],
   "source": [
    "\n",
    "lbe_user_id=LabelEncoder()\n",
    "user_log['user_id']=lbe_user_id.fit_transform(user_log['user_id'])\n",
    "user_info['user_id']=lbe_user_id.transform(user_info['user_id'])\n",
    "matrix['user_id']=lbe_user_id.transform(matrix['user_id'])\n"
   ]
  },
  {
   "cell_type": "code",
   "execution_count": 57,
   "metadata": {},
   "outputs": [],
   "source": [
    "\n",
    "lbe_item_id=LabelEncoder()\n",
    "user_log['item_id']=lbe_item_id.fit_transform(user_log['item_id'])\n",
    "lbe_cat_id=LabelEncoder()\n",
    "user_log['cat_id']=lbe_cat_id.fit_transform(user_log['cat_id'])\n",
    "lbe_brand_id=LabelEncoder()\n",
    "user_log['brand_id']=lbe_brand_id.fit_transform(user_log['brand_id'])\n",
    "\n",
    "user_log['merchant_id'].max(),user_log['user_id'].max()\n",
    "matrix = matrix.merge(user_info, on='user_id', how='left')\n"
   ]
  },
  {
   "cell_type": "code",
   "execution_count": 58,
   "metadata": {},
   "outputs": [
    {
     "name": "stdout",
     "output_type": "stream",
     "text": [
      "       user_id  merchant_id label origin  prob  age_range  gender\n",
      "0        16497         1203   0.0  train   NaN          0       1\n",
      "1         1950          946   0.0  train   NaN          2       0\n",
      "2        10829         2278   0.0  train   NaN          3       0\n",
      "3         7974          951   0.0  train   NaN          0       1\n",
      "4        14604         1892   0.0  train   NaN          7       0\n",
      "...        ...          ...   ...    ...   ...        ...     ...\n",
      "23888     2157         1748   nan   test   0.0          0       0\n",
      "23889     2673          798   nan   test   0.0          3       0\n",
      "23890    11847          639   nan   test   0.0          2       1\n",
      "23891    11847         3953   nan   test   0.0          2       1\n",
      "23892    19079         2954   nan   test   0.0          4       0\n",
      "\n",
      "[23893 rows x 7 columns]\n"
     ]
    }
   ],
   "source": [
    "\n",
    "# 1 for <18; 2 for [18,24]; 3 for [25,29]; 4 for [30,34]; 5 for [35,39]; 6 for [40,49]; 7 and 8 for >= 50; 0 and NULL for unknown\n",
    "matrix['age_range'].fillna(0, inplace=True)\n",
    "# 0:female, 1:male, 2:unknown\n",
    "matrix['gender'].fillna(2, inplace=True)\n",
    "matrix['age_range'] = matrix['age_range'].astype('int8')\n",
    "matrix['gender'] = matrix['gender'].astype('int8')\n",
    "matrix['label'] = matrix['label'].astype('str')\n",
    "matrix['user_id'] = matrix['user_id'].astype('int32')\n",
    "matrix['merchant_id'] = matrix['merchant_id'].astype('int32')\n",
    "del user_info, train_data1\n",
    "gc.collect()\n",
    "print(matrix)"
   ]
  },
  {
   "cell_type": "code",
   "execution_count": 59,
   "metadata": {},
   "outputs": [],
   "source": [
    "\n",
    "# User特征处理\n",
    "groups = user_log.groupby(['user_id'])\n",
    "# 用户交互行为数量 u1\n",
    "temp = groups.size().reset_index().rename(columns={0:'u1'})\n",
    "matrix = matrix.merge(temp, on='user_id', how='left')\n",
    "# 使用agg 基于列的聚合操作，统计唯一值的个数 item_id, cat_id, merchant_id, brand_id\n",
    "#temp = groups['item_id', 'cat_id', 'merchant_id', 'brand_id'].nunique().reset_index().rename(columns={'item_id':'u2', 'cat_id':'u3', 'merchant_id':'u4', 'brand_id':'u5'})\n",
    "temp = groups['item_id'].agg([('u2', 'nunique')]).reset_index()\n",
    "matrix = matrix.merge(temp, on='user_id', how='left')\n",
    "temp = groups['cat_id'].agg([('u3', 'nunique')]).reset_index()\n",
    "matrix = matrix.merge(temp, on='user_id', how='left')\n",
    "temp = groups['merchant_id'].agg([('u4', 'nunique')]).reset_index()\n",
    "matrix = matrix.merge(temp, on='user_id', how='left')\n",
    "temp = groups['brand_id'].agg([('u5', 'nunique')]).reset_index()\n",
    "matrix = matrix.merge(temp, on='user_id', how='left')\n"
   ]
  },
  {
   "cell_type": "code",
   "execution_count": 60,
   "metadata": {},
   "outputs": [],
   "source": [
    "\n",
    "# 时间间隔特征 u6 按照小时\n",
    "temp = groups['time_stamp'].agg([('F_time', 'min'), ('L_time', 'max')]).reset_index()\n",
    "temp['u6'] = (temp['L_time'] - temp['F_time']).dt.seconds/3600\n",
    "matrix = matrix.merge(temp[['user_id', 'u6']], on='user_id', how='left')\n",
    "# 统计action_type为0，1，2，3的个数（原始操作，没有补0）\n",
    "temp = groups['action_type'].value_counts().unstack().reset_index().rename(columns={0:'u7', 1:'u8', 2:'u9', 3:'u10'})\n",
    "matrix = matrix.merge(temp, on='user_id', how='left')\n",
    "#print(matrix)"
   ]
  },
  {
   "cell_type": "code",
   "execution_count": 61,
   "metadata": {},
   "outputs": [
    {
     "name": "stderr",
     "output_type": "stream",
     "text": [
      "<ipython-input-61-c6384d6c9738>:7: FutureWarning: Indexing with multiple keys (implicitly converted to a tuple of keys) will be deprecated, use a list instead.\n",
      "  temp = groups['user_id', 'item_id', 'cat_id', 'brand_id'].nunique().reset_index().rename(columns={'user_id':'m2', 'item_id':'m3', 'cat_id':'m4', 'brand_id':'m5'})\n"
     ]
    }
   ],
   "source": [
    "\n",
    "# 商家特征处理\n",
    "groups = user_log.groupby(['merchant_id'])\n",
    "# 商家被交互行为数量 m1\n",
    "temp = groups.size().reset_index().rename(columns={0:'m1'})\n",
    "matrix = matrix.merge(temp, on='merchant_id', how='left')\n",
    "# 统计商家被交互的user_id, item_id, cat_id, brand_id 唯一值\n",
    "temp = groups['user_id', 'item_id', 'cat_id', 'brand_id'].nunique().reset_index().rename(columns={'user_id':'m2', 'item_id':'m3', 'cat_id':'m4', 'brand_id':'m5'})\n",
    "matrix = matrix.merge(temp, on='merchant_id', how='left')\n",
    "# 统计商家被交互的action_type 唯一值\n",
    "temp = groups['action_type'].value_counts().unstack().reset_index().rename(columns={0:'m6', 1:'m7', 2:'m8', 3:'m9'})\n",
    "matrix = matrix.merge(temp, on='merchant_id', how='left')\n",
    "# 按照merchant_id 统计随机负采样的个数\n",
    "temp = train_data[train_data['label']==-1].groupby(['merchant_id']).size().reset_index().rename(columns={0:'m10'})\n",
    "matrix = matrix.merge(temp, on='merchant_id', how='left')\n",
    "#print(matrix)\n"
   ]
  },
  {
   "cell_type": "code",
   "execution_count": 62,
   "metadata": {},
   "outputs": [
    {
     "name": "stderr",
     "output_type": "stream",
     "text": [
      "<ipython-input-62-3e36aaa6d811>:5: FutureWarning: Indexing with multiple keys (implicitly converted to a tuple of keys) will be deprecated, use a list instead.\n",
      "  temp = groups['item_id', 'cat_id', 'brand_id'].nunique().reset_index().rename(columns={'item_id':'um2', 'cat_id':'um3', 'brand_id':'um4'}) #统计item_id, cat_id, brand_id唯一个数\n"
     ]
    },
    {
     "name": "stdout",
     "output_type": "stream",
     "text": [
      "        user_id  merchant_id       um9\n",
      "0             0          186  0.883333\n",
      "1             0          202  0.000000\n",
      "2             0          523  0.000000\n",
      "3             0          774  0.000000\n",
      "4             0          956  0.000000\n",
      "...         ...          ...       ...\n",
      "635221    19111         2874  0.000000\n",
      "635222    19111         3833  0.000000\n",
      "635223    19111         4480  0.000000\n",
      "635224    19111         4522  0.000000\n",
      "635225    19111         4950  0.000000\n",
      "\n",
      "[635226 rows x 3 columns]\n",
      "----------------------------------------------------------------------------------------------------\n"
     ]
    }
   ],
   "source": [
    "\n",
    "# 按照user_id, merchant_id分组\n",
    "groups = user_log.groupby(['user_id', 'merchant_id'])\n",
    "temp = groups.size().reset_index().rename(columns={0:'um1'}) #统计行为个数\n",
    "matrix = matrix.merge(temp, on=['user_id', 'merchant_id'], how='left')\n",
    "temp = groups['item_id', 'cat_id', 'brand_id'].nunique().reset_index().rename(columns={'item_id':'um2', 'cat_id':'um3', 'brand_id':'um4'}) #统计item_id, cat_id, brand_id唯一个数\n",
    "matrix = matrix.merge(temp, on=['user_id', 'merchant_id'], how='left')\n",
    "temp = groups['action_type'].value_counts().unstack().reset_index().rename(columns={0:'um5', 1:'um6', 2:'um7', 3:'um8'})#统计不同action_type唯一个数\n",
    "matrix = matrix.merge(temp, on=['user_id', 'merchant_id'], how='left')\n",
    "temp = groups['time_stamp'].agg([('first', 'min'), ('last', 'max')]).reset_index()\n",
    "temp['um9'] = (temp['last'] - temp['first']).dt.seconds/3600\n",
    "temp.drop(['first', 'last'], axis=1, inplace=True)\n",
    "print(temp)\n",
    "print('-'*100)\n",
    "matrix = matrix.merge(temp, on=['user_id', 'merchant_id'], how='left') #统计时间间隔\n",
    "#print(matrix)"
   ]
  },
  {
   "cell_type": "code",
   "execution_count": 63,
   "metadata": {},
   "outputs": [],
   "source": [
    "\n",
    "#用户购买点击比\n",
    "matrix['r1'] = matrix['u9']/matrix['u7'] \n",
    "#商家购买点击比\n",
    "matrix['r2'] = matrix['m8']/matrix['m6'] \n",
    "#不同用户不同商家购买点击比\n",
    "matrix['r3'] = matrix['um7']/matrix['um5']\n",
    "matrix.fillna(0, inplace=True)\n",
    "# # 修改age_range字段名称为 age_0, age_1, age_2... age_8\n",
    "temp = pd.get_dummies(matrix['age_range'], prefix='age')\n",
    "matrix = pd.concat([matrix, temp], axis=1)\n",
    "temp = pd.get_dummies(matrix['gender'], prefix='g')\n",
    "matrix = pd.concat([matrix, temp], axis=1)\n",
    "matrix.drop(['age_range', 'gender'], axis=1, inplace=True)\n",
    "#print(matrix)"
   ]
  },
  {
   "cell_type": "code",
   "execution_count": 64,
   "metadata": {},
   "outputs": [
    {
     "name": "stderr",
     "output_type": "stream",
     "text": [
      "<ipython-input-64-c6755f0b2b5e>:5: FutureWarning: Indexing with multiple keys (implicitly converted to a tuple of keys) will be deprecated, use a list instead.\n",
      "  temp=pd.DataFrame(user_log.groupby('user_id')['merchant_id','action_type'].agg(lambda x:list(x)))\n"
     ]
    },
    {
     "name": "stdout",
     "output_type": "stream",
     "text": [
      "       user_id  merchant_id label origin  prob    u1   u2  u3  u4  u5  \\\n",
      "0        16497         1203   0.0  train   0.0    46   29  12  16  16   \n",
      "1         1950          946   0.0  train   0.0   365  198  46  46  45   \n",
      "2        10829         2278   0.0  train   0.0    47   31  14  15  17   \n",
      "3         7974          951   0.0  train   0.0   234  105  23  35  36   \n",
      "4        14604         1892   0.0  train   0.0   186  106  34  40  39   \n",
      "...        ...          ...   ...    ...   ...   ...  ...  ..  ..  ..   \n",
      "23888     2157         1748   nan   test   0.0   128   97  28  39  40   \n",
      "23889     2673          798   nan   test   0.0  1286  540  55  93  96   \n",
      "23890    11847          639   nan   test   0.0     9    8   7   7   7   \n",
      "23891    11847         3953   nan   test   0.0     9    8   7   7   7   \n",
      "23892    19079         2954   nan   test   0.0   197   85  36  39  40   \n",
      "\n",
      "             u6      u7   u8    u9   u10    m1   m2   m3  m4  m5      m6  \\\n",
      "0      4.933333    45.0  0.0   1.0   0.0  1915  408  175  19   2  1639.0   \n",
      "1      5.866667   313.0  0.0  21.0  31.0  1965  292  320   6   3  1809.0   \n",
      "2      5.833333    42.0  0.0   5.0   0.0  1125  254   72  12   2   928.0   \n",
      "3      5.833333   177.0  0.0  11.0  46.0   574  210  117   8   2   483.0   \n",
      "4      5.866667   147.0  0.0  25.0  14.0  6852  664  554  69   3  6028.0   \n",
      "...         ...     ...  ...   ...   ...   ...  ...  ...  ..  ..     ...   \n",
      "23888  5.816667   122.0  0.0   6.0   0.0    72   33   14   2   1    66.0   \n",
      "23889  6.000000  1182.0  0.0  16.0  88.0  4892  907  109  20   2  4323.0   \n",
      "23890  5.783333     7.0  0.0   2.0   0.0   480  201    9   2   2   418.0   \n",
      "23891  5.783333     7.0  0.0   2.0   0.0   515  171   31   7   3   434.0   \n",
      "23892  5.916667   159.0  0.0  31.0   7.0  2409  511  133  31   5  1955.0   \n",
      "\n",
      "         m7     m8     m9   m10  um1  um2  um3  um4   um5  um6  um7  um8  \\\n",
      "0       4.0  201.0   71.0  3518    8    4    2    1   7.0  0.0  1.0  0.0   \n",
      "1       6.0  104.0   46.0  2816   42   14    2    1  34.0  0.0  7.0  1.0   \n",
      "2       5.0  138.0   54.0  2604    2    1    1    1   1.0  0.0  1.0  0.0   \n",
      "3       1.0   63.0   27.0  1932   11    4    1    1  10.0  0.0  1.0  0.0   \n",
      "4      27.0  473.0  324.0  5471   19   10    6    1  10.0  0.0  9.0  0.0   \n",
      "...     ...    ...    ...   ...  ...  ...  ...  ...   ...  ...  ...  ...   \n",
      "23888   0.0    2.0    4.0   356    9    1    1    1   8.0  0.0  1.0  0.0   \n",
      "23889  12.0  304.0  253.0  8650   42   15   11    1  35.0  0.0  4.0  3.0   \n",
      "23890   1.0   49.0   12.0  1943    2    1    1    1   1.0  0.0  1.0  0.0   \n",
      "23891   3.0   68.0   10.0   540    1    1    1    1   0.0  0.0  1.0  0.0   \n",
      "23892   6.0  300.0  148.0  4497    4    2    2    1   1.0  0.0  2.0  1.0   \n",
      "\n",
      "            um9        r1        r2        r3  age_0  age_2  age_3  age_4  \\\n",
      "0      0.016667  0.022222  0.122636  0.142857      1      0      0      0   \n",
      "1      0.016667  0.067093  0.057490  0.205882      0      1      0      0   \n",
      "2      0.000000  0.119048  0.148707  1.000000      0      0      1      0   \n",
      "3      0.016667  0.062147  0.130435  0.100000      1      0      0      0   \n",
      "4      0.016667  0.170068  0.078467  0.900000      0      0      0      0   \n",
      "...         ...       ...       ...       ...    ...    ...    ...    ...   \n",
      "23888  0.066667  0.049180  0.030303  0.125000      1      0      0      0   \n",
      "23889  2.783333  0.013536  0.070322  0.114286      0      0      1      0   \n",
      "23890  0.000000  0.285714  0.117225  1.000000      0      1      0      0   \n",
      "23891  0.000000  0.285714  0.156682  0.000000      0      1      0      0   \n",
      "23892  0.050000  0.194969  0.153453  2.000000      0      0      0      1   \n",
      "\n",
      "       age_5  age_6  age_7  age_8  g_0  g_1  g_2  \\\n",
      "0          0      0      0      0    0    1    0   \n",
      "1          0      0      0      0    1    0    0   \n",
      "2          0      0      0      0    1    0    0   \n",
      "3          0      0      0      0    0    1    0   \n",
      "4          0      0      1      0    1    0    0   \n",
      "...      ...    ...    ...    ...  ...  ...  ...   \n",
      "23888      0      0      0      0    1    0    0   \n",
      "23889      0      0      0      0    1    0    0   \n",
      "23890      0      0      0      0    0    1    0   \n",
      "23891      0      0      0      0    0    1    0   \n",
      "23892      0      0      0      0    1    0    0   \n",
      "\n",
      "                                        hist_merchant_id  \\\n",
      "0      [3735, 1203, 3490, 2968, 3510, 3510, 3388, 610...   \n",
      "1      [1867, 3891, 141, 420, 3891, 420, 141, 1867, 1...   \n",
      "2      [604, 1807, 2950, 604, 2101, 1807, 1807, 1807,...   \n",
      "3      [644, 644, 951, 644, 644, 644, 3176, 951, 644,...   \n",
      "4      [1885, 40, 172, 1727, 1727, 1892, 1727, 1727, ...   \n",
      "...                                                  ...   \n",
      "23888  [4770, 4770, 3490, 3490, 215, 215, 215, 215, 2...   \n",
      "23889  [4172, 2418, 3734, 3212, 2418, 4346, 4172, 417...   \n",
      "23890  [1955, 203, 4842, 4842, 3953, 639, 639, 4308, ...   \n",
      "23891  [1955, 203, 4842, 4842, 3953, 639, 639, 4308, ...   \n",
      "23892  [4375, 1318, 2580, 3169, 4375, 1892, 3223, 431...   \n",
      "\n",
      "                                        hist_action_type  \n",
      "0      [1, 3, 1, 1, 1, 1, 1, 1, 1, 1, 1, 1, 1, 1, 1, ...  \n",
      "1      [4, 1, 1, 1, 1, 1, 1, 1, 1, 1, 1, 1, 1, 1, 1, ...  \n",
      "2      [3, 3, 1, 1, 1, 1, 1, 1, 1, 1, 1, 1, 1, 1, 1, ...  \n",
      "3      [1, 1, 1, 1, 1, 1, 1, 1, 1, 1, 1, 1, 1, 4, 1, ...  \n",
      "4      [1, 1, 1, 4, 1, 1, 1, 1, 1, 4, 1, 4, 3, 1, 1, ...  \n",
      "...                                                  ...  \n",
      "23888  [1, 3, 1, 1, 1, 1, 1, 1, 1, 1, 1, 1, 1, 1, 1, ...  \n",
      "23889  [1, 1, 1, 1, 1, 1, 1, 1, 1, 1, 1, 1, 1, 1, 1, ...  \n",
      "23890                        [1, 1, 1, 1, 3, 3, 1, 1, 1]  \n",
      "23891                        [1, 1, 1, 1, 3, 3, 1, 1, 1]  \n",
      "23892  [1, 1, 1, 1, 1, 1, 1, 1, 1, 3, 3, 3, 3, 3, 1, ...  \n",
      "\n",
      "[23893 rows x 50 columns]\n"
     ]
    }
   ],
   "source": [
    "\n",
    "lbe_action_type={0:1,1:2,2:3,3:4}\n",
    "user_log['action_type']=user_log['action_type'].map(lbe_action_type)\n",
    "# 用户行为sequence\n",
    "# 把user_log里同user的这些数据合并成一个list\n",
    "temp=pd.DataFrame(user_log.groupby('user_id')['merchant_id','action_type'].agg(lambda x:list(x)))\n",
    "# 列名称改成hist_merchant_id 和 hist_action_type \n",
    "temp.columns=['hist_merchant_id','hist_action_type']\n",
    "#print(temp)\n",
    "matrix = matrix.merge(temp, on=['user_id'], how='left') #统计时间间隔\n",
    "print(matrix)"
   ]
  },
  {
   "cell_type": "code",
   "execution_count": 65,
   "metadata": {},
   "outputs": [],
   "source": [
    "\n",
    "# 截取，不缺到定长M个\n",
    "M=500\n",
    "for feature in ['hist_merchant_id','hist_action_type']:\n",
    "    matrix[feature]=matrix[feature].map(lambda x:np.array(x+[0]*(M-len(x)))[:M])\n"
   ]
  },
  {
   "cell_type": "code",
   "execution_count": 66,
   "metadata": {},
   "outputs": [
    {
     "name": "stdout",
     "output_type": "stream",
     "text": [
      "       user_id  merchant_id  prob   u1   u2  u3  u4  u5        u6     u7   u8  \\\n",
      "0        16497         1203   0.0   46   29  12  16  16  4.933333   45.0  0.0   \n",
      "1         1950          946   0.0  365  198  46  46  45  5.866667  313.0  0.0   \n",
      "2        10829         2278   0.0   47   31  14  15  17  5.833333   42.0  0.0   \n",
      "3         7974          951   0.0  234  105  23  35  36  5.833333  177.0  0.0   \n",
      "4        14604         1892   0.0  186  106  34  40  39  5.866667  147.0  0.0   \n",
      "...        ...          ...   ...  ...  ...  ..  ..  ..       ...    ...  ...   \n",
      "17832    18547         3825   0.0   40   24  13  14  15  4.916667   27.0  0.0   \n",
      "17833    18693         3443   0.0   15   12  10  10  10  6.000000   10.0  0.0   \n",
      "17834     4034         4172   0.0   16   14   8  11  12  5.833333   15.0  0.0   \n",
      "17835    16017          993   0.0   33   25  12  15  15  4.916667   31.0  0.0   \n",
      "17836     7308         4723   0.0   94   50  18  24  22  5.766667   80.0  0.0   \n",
      "\n",
      "         u9   u10     m1    m2    m3  m4  m5       m6    m7     m8      m9  \\\n",
      "0       1.0   0.0   1915   408   175  19   2   1639.0   4.0  201.0    71.0   \n",
      "1      21.0  31.0   1965   292   320   6   3   1809.0   6.0  104.0    46.0   \n",
      "2       5.0   0.0   1125   254    72  12   2    928.0   5.0  138.0    54.0   \n",
      "3      11.0  46.0    574   210   117   8   2    483.0   1.0   63.0    27.0   \n",
      "4      25.0  14.0   6852   664   554  69   3   6028.0  27.0  473.0   324.0   \n",
      "...     ...   ...    ...   ...   ...  ..  ..      ...   ...    ...     ...   \n",
      "17832  13.0   0.0   1331   302    18   4   3   1092.0   7.0  175.0    57.0   \n",
      "17833   5.0   0.0    489   129    17   8   2    439.0   1.0   20.0    29.0   \n",
      "17834   1.0   0.0  23229  2578  1885  23   2  21466.0  35.0  467.0  1261.0   \n",
      "17835   2.0   0.0    110    23    30   5   5     99.0   0.0    8.0     3.0   \n",
      "17836   9.0   5.0    412   153    48   3   1    362.0   0.0   35.0    15.0   \n",
      "\n",
      "        m10  um1  um2  um3  um4   um5  um6  um7  um8       um9        r1  \\\n",
      "0      3518    8    4    2    1   7.0  0.0  1.0  0.0  0.016667  0.022222   \n",
      "1      2816   42   14    2    1  34.0  0.0  7.0  1.0  0.016667  0.067093   \n",
      "2      2604    2    1    1    1   1.0  0.0  1.0  0.0  0.000000  0.119048   \n",
      "3      1932   11    4    1    1  10.0  0.0  1.0  0.0  0.016667  0.062147   \n",
      "4      5471   19   10    6    1  10.0  0.0  9.0  0.0  0.016667  0.170068   \n",
      "...     ...  ...  ...  ...  ...   ...  ...  ...  ...       ...       ...   \n",
      "17832   526    2    1    1    1   1.0  0.0  1.0  0.0  0.000000  0.481481   \n",
      "17833    99    1    1    1    1   0.0  0.0  1.0  0.0  0.000000  0.500000   \n",
      "17834   396    3    1    1    1   2.0  0.0  1.0  0.0  0.000000  0.066667   \n",
      "17835   213    7    2    2    1   5.0  0.0  2.0  0.0  0.000000  0.064516   \n",
      "17836   283   11    4    1    1   7.0  0.0  2.0  2.0  0.000000  0.112500   \n",
      "\n",
      "             r2        r3  age_0  age_2  age_3  age_4  age_5  age_6  age_7  \\\n",
      "0      0.122636  0.142857      1      0      0      0      0      0      0   \n",
      "1      0.057490  0.205882      0      1      0      0      0      0      0   \n",
      "2      0.148707  1.000000      0      0      1      0      0      0      0   \n",
      "3      0.130435  0.100000      1      0      0      0      0      0      0   \n",
      "4      0.078467  0.900000      0      0      0      0      0      0      1   \n",
      "...         ...       ...    ...    ...    ...    ...    ...    ...    ...   \n",
      "17832  0.160256  1.000000      0      0      0      0      0      1      0   \n",
      "17833  0.045558  0.000000      0      0      1      0      0      0      0   \n",
      "17834  0.021755  0.500000      0      1      0      0      0      0      0   \n",
      "17835  0.080808  0.400000      0      0      0      0      0      1      0   \n",
      "17836  0.096685  0.285714      0      0      1      0      0      0      0   \n",
      "\n",
      "       age_8  g_0  g_1  g_2  \\\n",
      "0          0    0    1    0   \n",
      "1          0    1    0    0   \n",
      "2          0    1    0    0   \n",
      "3          0    0    1    0   \n",
      "4          0    1    0    0   \n",
      "...      ...  ...  ...  ...   \n",
      "17832      0    0    1    0   \n",
      "17833      0    1    0    0   \n",
      "17834      0    1    0    0   \n",
      "17835      0    1    0    0   \n",
      "17836      0    1    0    0   \n",
      "\n",
      "                                        hist_merchant_id  \\\n",
      "0      [3735, 1203, 3490, 2968, 3510, 3510, 3388, 610...   \n",
      "1      [1867, 3891, 141, 420, 3891, 420, 141, 1867, 1...   \n",
      "2      [604, 1807, 2950, 604, 2101, 1807, 1807, 1807,...   \n",
      "3      [644, 644, 951, 644, 644, 644, 3176, 951, 644,...   \n",
      "4      [1885, 40, 172, 1727, 1727, 1892, 1727, 1727, ...   \n",
      "...                                                  ...   \n",
      "17832  [2647, 826, 4137, 2941, 4137, 4137, 4137, 4137...   \n",
      "17833  [937, 4289, 2812, 4289, 3119, 3119, 3119, 3119...   \n",
      "17834  [3685, 1737, 1737, 1588, 4172, 1737, 1588, 353...   \n",
      "17835  [584, 993, 993, 993, 1138, 1138, 4497, 1138, 1...   \n",
      "17836  [3662, 3662, 3662, 3662, 3662, 3662, 3662, 366...   \n",
      "\n",
      "                                        hist_action_type  \n",
      "0      [1, 3, 1, 1, 1, 1, 1, 1, 1, 1, 1, 1, 1, 1, 1, ...  \n",
      "1      [4, 1, 1, 1, 1, 1, 1, 1, 1, 1, 1, 1, 1, 1, 1, ...  \n",
      "2      [3, 3, 1, 1, 1, 1, 1, 1, 1, 1, 1, 1, 1, 1, 1, ...  \n",
      "3      [1, 1, 1, 1, 1, 1, 1, 1, 1, 1, 1, 1, 1, 4, 1, ...  \n",
      "4      [1, 1, 1, 4, 1, 1, 1, 1, 1, 4, 1, 4, 3, 1, 1, ...  \n",
      "...                                                  ...  \n",
      "17832  [1, 3, 1, 1, 1, 1, 1, 1, 1, 1, 3, 1, 1, 1, 1, ...  \n",
      "17833  [1, 1, 1, 1, 1, 3, 1, 1, 1, 1, 3, 3, 3, 3, 1, ...  \n",
      "17834  [1, 1, 1, 1, 3, 1, 1, 1, 1, 1, 1, 1, 1, 1, 1, ...  \n",
      "17835  [1, 1, 1, 3, 1, 1, 1, 1, 1, 1, 1, 1, 1, 1, 1, ...  \n",
      "17836  [3, 1, 3, 1, 1, 1, 1, 3, 1, 1, 1, 1, 3, 1, 3, ...  \n",
      "\n",
      "[17837 rows x 48 columns]\n"
     ]
    }
   ],
   "source": [
    "\n",
    "# 分割训练数据和测试数据\n",
    "train_data = matrix[matrix['origin'] == 'train'].drop(['origin'], axis=1)\n",
    "test_data = matrix[matrix['origin'] == 'test'].drop(['label', 'origin'], axis=1)\n",
    "train_X, train_y = train_data.drop(['label'], axis=1), train_data['label']\n",
    "print(train_X)"
   ]
  },
  {
   "cell_type": "code",
   "execution_count": 78,
   "metadata": {},
   "outputs": [
    {
     "name": "stdout",
     "output_type": "stream",
     "text": [
      "17837\n"
     ]
    }
   ],
   "source": [
    "\n",
    "print(len(train_X))"
   ]
  },
  {
   "cell_type": "code",
   "execution_count": 67,
   "metadata": {},
   "outputs": [
    {
     "name": "stdout",
     "output_type": "stream",
     "text": [
      "user_id\n",
      "14488\n",
      "merchant_id\n",
      "1856\n",
      "prob\n",
      "1\n",
      "u1\n",
      "825\n",
      "u2\n",
      "539\n",
      "u3\n",
      "124\n",
      "u4\n",
      "246\n",
      "u5\n",
      "237\n",
      "u6\n",
      "184\n",
      "u7\n",
      "772\n",
      "u8\n",
      "17\n",
      "u9\n",
      "79\n",
      "u10\n",
      "161\n",
      "m1\n",
      "805\n",
      "m2\n",
      "406\n",
      "m3\n",
      "292\n",
      "m4\n",
      "56\n",
      "m5\n",
      "35\n",
      "m6\n",
      "757\n",
      "m7\n",
      "23\n",
      "m8\n",
      "208\n",
      "m9\n",
      "163\n",
      "m10\n",
      "1294\n",
      "um1\n",
      "170\n",
      "um2\n",
      "94\n",
      "um3\n",
      "22\n",
      "um4\n",
      "12\n",
      "um5\n",
      "166\n",
      "um6\n",
      "8\n",
      "um7\n",
      "10\n",
      "um8\n",
      "26\n",
      "um9\n",
      "184\n",
      "r1\n",
      "3265\n",
      "r2\n",
      "1413\n",
      "r3\n",
      "394\n",
      "age_0\n",
      "2\n",
      "age_2\n",
      "2\n",
      "age_3\n",
      "2\n",
      "age_4\n",
      "2\n",
      "age_5\n",
      "2\n",
      "age_6\n",
      "2\n",
      "age_7\n",
      "2\n",
      "age_8\n",
      "2\n",
      "g_0\n",
      "2\n",
      "g_1\n",
      "2\n",
      "g_2\n",
      "2\n",
      "action_type\n",
      "1\n"
     ]
    }
   ],
   "source": [
    "\n",
    "# 使用DIN模型\n",
    "from sklearn.model_selection import train_test_split\n",
    "from sklearn.ensemble import RandomForestClassifier\n",
    "from sklearn.linear_model import LinearRegression\n",
    "from sklearn.metrics import log_loss\n",
    "from deepctr.feature_column import DenseFeat,VarLenSparseFeat,SparseFeat,get_feature_names\n",
    "from deepctr.models import DIN, DIEN, DSIN\n",
    "from sklearn.metrics import classification_report\n",
    "\n",
    "train_X['action_type']=3\n",
    "feature_columns = []\n",
    "for column in train_X.columns:\n",
    "    if column != 'hist_merchant_id' and column != 'hist_action_type':\n",
    "        print(column)\n",
    "        num = train_X[column].nunique()\n",
    "        if num > 10000:\n",
    "            dim = 10\n",
    "        else:\n",
    "            if num > 1000:\n",
    "                dim = 8\n",
    "            else:\n",
    "                dim = 4\n",
    "        print(num)\n",
    "        if column  == 'user_id':\n",
    "            feature_columns += [SparseFeat(column, 19111+1, embedding_dim=dim)]\n",
    "        elif column  == 'merchant_id':\n",
    "            feature_columns += [SparseFeat(column, 4994+1, embedding_dim=dim)]\n",
    "        elif column  == 'action_type':\n",
    "            feature_columns += [SparseFeat(column, 4+1, embedding_dim=dim)]\n",
    "        else:\n",
    "            feature_columns += [DenseFeat(column, 1)]\n",
    "\n",
    "#print(train_X['hist_merchant_id'].shape)\n",
    "#M = len(train_X['hist_merchant_id'])"
   ]
  },
  {
   "cell_type": "code",
   "execution_count": 68,
   "metadata": {},
   "outputs": [
    {
     "name": "stdout",
     "output_type": "stream",
     "text": [
      "[SparseFeat(name='user_id', vocabulary_size=19112, embedding_dim=10, use_hash=False, dtype='int32', embeddings_initializer=<tensorflow.python.keras.initializers.initializers_v1.RandomNormal object at 0x7faeedfde190>, embedding_name='user_id', group_name='default_group', trainable=True), SparseFeat(name='merchant_id', vocabulary_size=4995, embedding_dim=8, use_hash=False, dtype='int32', embeddings_initializer=<tensorflow.python.keras.initializers.initializers_v1.RandomNormal object at 0x7fae46234490>, embedding_name='merchant_id', group_name='default_group', trainable=True), DenseFeat(name='prob', dimension=1, dtype='float32', transform_fn=None), DenseFeat(name='u1', dimension=1, dtype='float32', transform_fn=None), DenseFeat(name='u2', dimension=1, dtype='float32', transform_fn=None), DenseFeat(name='u3', dimension=1, dtype='float32', transform_fn=None), DenseFeat(name='u4', dimension=1, dtype='float32', transform_fn=None), DenseFeat(name='u5', dimension=1, dtype='float32', transform_fn=None), DenseFeat(name='u6', dimension=1, dtype='float32', transform_fn=None), DenseFeat(name='u7', dimension=1, dtype='float32', transform_fn=None), DenseFeat(name='u8', dimension=1, dtype='float32', transform_fn=None), DenseFeat(name='u9', dimension=1, dtype='float32', transform_fn=None), DenseFeat(name='u10', dimension=1, dtype='float32', transform_fn=None), DenseFeat(name='m1', dimension=1, dtype='float32', transform_fn=None), DenseFeat(name='m2', dimension=1, dtype='float32', transform_fn=None), DenseFeat(name='m3', dimension=1, dtype='float32', transform_fn=None), DenseFeat(name='m4', dimension=1, dtype='float32', transform_fn=None), DenseFeat(name='m5', dimension=1, dtype='float32', transform_fn=None), DenseFeat(name='m6', dimension=1, dtype='float32', transform_fn=None), DenseFeat(name='m7', dimension=1, dtype='float32', transform_fn=None), DenseFeat(name='m8', dimension=1, dtype='float32', transform_fn=None), DenseFeat(name='m9', dimension=1, dtype='float32', transform_fn=None), DenseFeat(name='m10', dimension=1, dtype='float32', transform_fn=None), DenseFeat(name='um1', dimension=1, dtype='float32', transform_fn=None), DenseFeat(name='um2', dimension=1, dtype='float32', transform_fn=None), DenseFeat(name='um3', dimension=1, dtype='float32', transform_fn=None), DenseFeat(name='um4', dimension=1, dtype='float32', transform_fn=None), DenseFeat(name='um5', dimension=1, dtype='float32', transform_fn=None), DenseFeat(name='um6', dimension=1, dtype='float32', transform_fn=None), DenseFeat(name='um7', dimension=1, dtype='float32', transform_fn=None), DenseFeat(name='um8', dimension=1, dtype='float32', transform_fn=None), DenseFeat(name='um9', dimension=1, dtype='float32', transform_fn=None), DenseFeat(name='r1', dimension=1, dtype='float32', transform_fn=None), DenseFeat(name='r2', dimension=1, dtype='float32', transform_fn=None), DenseFeat(name='r3', dimension=1, dtype='float32', transform_fn=None), DenseFeat(name='age_0', dimension=1, dtype='float32', transform_fn=None), DenseFeat(name='age_2', dimension=1, dtype='float32', transform_fn=None), DenseFeat(name='age_3', dimension=1, dtype='float32', transform_fn=None), DenseFeat(name='age_4', dimension=1, dtype='float32', transform_fn=None), DenseFeat(name='age_5', dimension=1, dtype='float32', transform_fn=None), DenseFeat(name='age_6', dimension=1, dtype='float32', transform_fn=None), DenseFeat(name='age_7', dimension=1, dtype='float32', transform_fn=None), DenseFeat(name='age_8', dimension=1, dtype='float32', transform_fn=None), DenseFeat(name='g_0', dimension=1, dtype='float32', transform_fn=None), DenseFeat(name='g_1', dimension=1, dtype='float32', transform_fn=None), DenseFeat(name='g_2', dimension=1, dtype='float32', transform_fn=None), SparseFeat(name='action_type', vocabulary_size=5, embedding_dim=4, use_hash=False, dtype='int32', embeddings_initializer=<tensorflow.python.keras.initializers.initializers_v1.RandomNormal object at 0x7fac30bf2b80>, embedding_name='action_type', group_name='default_group', trainable=True), VarLenSparseFeat(sparsefeat=SparseFeat(name='hist_merchant_id', vocabulary_size=19112, embedding_dim=8, use_hash=False, dtype='int32', embeddings_initializer=<tensorflow.python.keras.initializers.initializers_v1.RandomNormal object at 0x7fae314fd970>, embedding_name='merchant_id', group_name='default_group', trainable=True), maxlen=500, combiner='mean', length_name=None, weight_name=None, weight_norm=True), VarLenSparseFeat(sparsefeat=SparseFeat(name='hist_action_type', vocabulary_size=5, embedding_dim=4, use_hash=False, dtype='int32', embeddings_initializer=<tensorflow.python.keras.initializers.initializers_v1.RandomNormal object at 0x7fae314fd520>, embedding_name='action_type', group_name='default_group', trainable=True), maxlen=500, combiner='mean', length_name=None, weight_name=None, weight_norm=True)]\n"
     ]
    }
   ],
   "source": [
    "\n",
    "# maxlen为历史信息的长度，vocabulary_size为onehot的长度\n",
    "feature_columns += [VarLenSparseFeat(SparseFeat('hist_merchant_id', vocabulary_size=19111+1, embedding_dim=8, embedding_name='merchant_id'),maxlen=M), \n",
    "                   VarLenSparseFeat(SparseFeat('hist_action_type', vocabulary_size=4+1, embedding_dim=4, embedding_name='action_type'), maxlen=M)]\n",
    "hist_features=['merchant_id','action_type']\n",
    "print(feature_columns)\n"
   ]
  },
  {
   "cell_type": "code",
   "execution_count": 69,
   "metadata": {},
   "outputs": [
    {
     "name": "stdout",
     "output_type": "stream",
     "text": [
      "WARNING:tensorflow:\n",
      "The following Variables were used a Lambda layer's call (lambda_2), but\n",
      "are not present in its tracked objects:\n",
      "  <tf.Variable 'attention_sequence_pooling_layer_3/local_activation_unit_3/kernel:0' shape=(40, 1) dtype=float32>\n",
      "  <tf.Variable 'attention_sequence_pooling_layer_3/local_activation_unit_3/bias:0' shape=(1,) dtype=float32>\n",
      "It is possible that this is intended behavior, but it is more likely\n",
      "an omission. This is a strong indication that this layer should be\n",
      "formulated as a subclassed Layer rather than a Lambda layer.\n"
     ]
    }
   ],
   "source": [
    "\n",
    "# 使用DIN模型\n",
    "model=DIN(feature_columns, hist_features)\n",
    "# 使用Adam优化器，二分类的交叉熵\n",
    "model.compile('adam', 'binary_crossentropy', metrics=['binary_crossentropy'])\n"
   ]
  },
  {
   "cell_type": "code",
   "execution_count": 70,
   "metadata": {},
   "outputs": [
    {
     "data": {
      "text/plain": [
       "0        0.0\n",
       "1        0.0\n",
       "2        0.0\n",
       "3        0.0\n",
       "4        0.0\n",
       "        ... \n",
       "17832    0.0\n",
       "17833    0.0\n",
       "17834    0.0\n",
       "17835    0.0\n",
       "17836    0.0\n",
       "Name: label, Length: 17837, dtype: float64"
      ]
     },
     "execution_count": 70,
     "metadata": {},
     "output_type": "execute_result"
    }
   ],
   "source": [
    "train_y = train_y.astype('float')\n",
    "train_y"
   ]
  },
  {
   "cell_type": "code",
   "execution_count": 71,
   "metadata": {},
   "outputs": [
    {
     "name": "stderr",
     "output_type": "stream",
     "text": [
      "100%|██████████| 17837/17837 [00:00<00:00, 1799923.02it/s]\n",
      "100%|██████████| 17837/17837 [00:00<00:00, 1568061.88it/s]\n"
     ]
    },
    {
     "name": "stdout",
     "output_type": "stream",
     "text": [
      "Epoch 1/10\n"
     ]
    },
    {
     "name": "stderr",
     "output_type": "stream",
     "text": [
      "/Users/coolion/opt/anaconda3/lib/python3.8/site-packages/tensorflow/python/framework/indexed_slices.py:432: UserWarning: Converting sparse IndexedSlices to a dense Tensor of unknown shape. This may consume a large amount of memory.\n",
      "  warnings.warn(\n"
     ]
    },
    {
     "name": "stdout",
     "output_type": "stream",
     "text": [
      "28/28 [==============================] - 51s 2s/step - loss: 0.9293 - binary_crossentropy: 0.9293 - val_loss: 0.9338 - val_binary_crossentropy: 0.9338\n",
      "Epoch 2/10\n",
      "28/28 [==============================] - 57s 2s/step - loss: 0.9135 - binary_crossentropy: 0.9135 - val_loss: 0.9338 - val_binary_crossentropy: 0.9338\n",
      "Epoch 3/10\n",
      "28/28 [==============================] - 50s 2s/step - loss: 0.9135 - binary_crossentropy: 0.9135 - val_loss: 0.9338 - val_binary_crossentropy: 0.9338\n",
      "Epoch 4/10\n",
      "28/28 [==============================] - 54s 2s/step - loss: 0.9135 - binary_crossentropy: 0.9135 - val_loss: 0.9338 - val_binary_crossentropy: 0.9338\n",
      "Epoch 5/10\n",
      "28/28 [==============================] - 53s 2s/step - loss: 0.9135 - binary_crossentropy: 0.9135 - val_loss: 0.9338 - val_binary_crossentropy: 0.9338\n",
      "Epoch 6/10\n",
      "28/28 [==============================] - 50s 2s/step - loss: 0.9135 - binary_crossentropy: 0.9135 - val_loss: 0.9338 - val_binary_crossentropy: 0.9338\n",
      "Epoch 7/10\n",
      "28/28 [==============================] - 49s 2s/step - loss: 0.9135 - binary_crossentropy: 0.9135 - val_loss: 0.9338 - val_binary_crossentropy: 0.9338\n",
      "Epoch 8/10\n",
      "28/28 [==============================] - 45s 2s/step - loss: 0.9135 - binary_crossentropy: 0.9135 - val_loss: 0.9338 - val_binary_crossentropy: 0.9338\n",
      "Epoch 9/10\n",
      "28/28 [==============================] - 45s 2s/step - loss: 0.9135 - binary_crossentropy: 0.9135 - val_loss: 0.9338 - val_binary_crossentropy: 0.9338\n",
      "Epoch 10/10\n",
      "28/28 [==============================] - 45s 2s/step - loss: 0.9135 - binary_crossentropy: 0.9135 - val_loss: 0.9338 - val_binary_crossentropy: 0.9338\n"
     ]
    }
   ],
   "source": [
    "\n",
    "# 组装train_model_input，得到feature names，将train_X转换为字典格式\n",
    "feature_names=list(train_X.columns)\n",
    "train_model_input = {name:train_X[name].values for name in feature_names}\n",
    "# histroy输入必须是二维数组\n",
    "from tqdm import tqdm\n",
    "for fea in ['hist_merchant_id','hist_action_type']:\n",
    "    l = []\n",
    "    for i in tqdm(train_model_input[fea]):\n",
    "        l.append(i)\n",
    "    train_model_input[fea]=np.array(l)\n",
    "history = model.fit(train_model_input, train_y, verbose=True, epochs=10, validation_split=0.2,batch_size=512)\n"
   ]
  },
  {
   "cell_type": "code",
   "execution_count": 73,
   "metadata": {},
   "outputs": [
    {
     "name": "stderr",
     "output_type": "stream",
     "text": [
      "100%|██████████| 6056/6056 [00:00<00:00, 907006.07it/s]\n",
      "100%|██████████| 6056/6056 [00:00<00:00, 1235142.48it/s]\n"
     ]
    }
   ],
   "source": [
    "\n",
    "# 转换test__model_input\n",
    "test_data['action_type']=3\n",
    "test_model_input = {name:test_data[name].values for name in feature_names}\n",
    "from tqdm import tqdm\n",
    "for fea in ['hist_merchant_id','hist_action_type']:\n",
    "    l = []\n",
    "    for i in tqdm(test_model_input[fea]):\n",
    "        l.append(i)\n",
    "    test_model_input[fea]=np.array(l)"
   ]
  },
  {
   "cell_type": "code",
   "execution_count": 74,
   "metadata": {},
   "outputs": [],
   "source": [
    "\n",
    "# 得到预测结果\n",
    "prob = model.predict(test_model_input)\n",
    "submission['prob'] = prob\n",
    "submission.drop(['origin'], axis=1, inplace=True)\n",
    "submission.to_csv('prediction.csv', index=False)"
   ]
  },
  {
   "cell_type": "code",
   "execution_count": 1,
   "metadata": {},
   "outputs": [
    {
     "ename": "NameError",
     "evalue": "name 'prob' is not defined",
     "output_type": "error",
     "traceback": [
      "\u001b[0;31m---------------------------------------------------------------------------\u001b[0m",
      "\u001b[0;31mNameError\u001b[0m                                 Traceback (most recent call last)",
      "\u001b[0;32m<ipython-input-1-2ebac7618291>\u001b[0m in \u001b[0;36m<module>\u001b[0;34m\u001b[0m\n\u001b[0;32m----> 1\u001b[0;31m \u001b[0mprob\u001b[0m\u001b[0;34m\u001b[0m\u001b[0;34m\u001b[0m\u001b[0m\n\u001b[0m",
      "\u001b[0;31mNameError\u001b[0m: name 'prob' is not defined"
     ]
    }
   ],
   "source": [
    "prob"
   ]
  },
  {
   "cell_type": "code",
   "execution_count": null,
   "metadata": {},
   "outputs": [],
   "source": []
  },
  {
   "cell_type": "code",
   "execution_count": null,
   "metadata": {},
   "outputs": [],
   "source": []
  },
  {
   "cell_type": "code",
   "execution_count": null,
   "metadata": {},
   "outputs": [],
   "source": []
  },
  {
   "cell_type": "code",
   "execution_count": null,
   "metadata": {},
   "outputs": [],
   "source": []
  }
 ],
 "metadata": {
  "accelerator": "GPU",
  "colab": {
   "collapsed_sections": [],
   "name": "RepeatBuyersPrediction_0.6833.ipynb",
   "provenance": [],
   "toc_visible": true
  },
  "kernelspec": {
   "display_name": "Python 3",
   "language": "python",
   "name": "python3"
  },
  "language_info": {
   "codemirror_mode": {
    "name": "ipython",
    "version": 3
   },
   "file_extension": ".py",
   "mimetype": "text/x-python",
   "name": "python",
   "nbconvert_exporter": "python",
   "pygments_lexer": "ipython3",
   "version": "3.8.3"
  },
  "toc": {
   "base_numbering": 1,
   "nav_menu": {},
   "number_sections": true,
   "sideBar": true,
   "skip_h1_title": false,
   "title_cell": "Table of Contents",
   "title_sidebar": "Contents",
   "toc_cell": false,
   "toc_position": {
    "height": "calc(100% - 180px)",
    "left": "10px",
    "top": "150px",
    "width": "315.556px"
   },
   "toc_section_display": true,
   "toc_window_display": true
  }
 },
 "nbformat": 4,
 "nbformat_minor": 1
}
